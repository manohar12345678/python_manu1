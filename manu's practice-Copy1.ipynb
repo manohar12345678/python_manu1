{
 "cells": [
  {
   "cell_type": "markdown",
   "metadata": {},
   "source": [
    "# practice"
   ]
  },
  {
   "cell_type": "code",
   "execution_count": 3,
   "metadata": {},
   "outputs": [
    {
     "data": {
      "text/plain": [
       "{1, 4, 5}"
      ]
     },
     "execution_count": 3,
     "metadata": {},
     "output_type": "execute_result"
    }
   ],
   "source": [
    "s1={1,2,3,4,5}\n",
    "s2={1,4,5,7}\n",
    "intersection(s2,s1)"
   ]
  },
  {
   "cell_type": "code",
   "execution_count": 2,
   "metadata": {},
   "outputs": [],
   "source": [
    "s1={'h', 'r', 'n', 'm', 'o', 'a'}\n",
    "s2={'a','e','i','o','u','A','E','I','O','U'}\n",
    "def intersection(s1,s2):\n",
    "    s3=set()\n",
    "    for i in s1:\n",
    "        for j in s2:\n",
    "            if i==j:\n",
    "                s3.add(i)\n",
    "    return s3            \n",
    "            \n",
    " "
   ]
  },
  {
   "cell_type": "code",
   "execution_count": null,
   "metadata": {},
   "outputs": [],
   "source": [
    "a={1,2,3,4}\n",
    "b={2,4,9,8,0}\n",
    "intersection(a,b)"
   ]
  },
  {
   "cell_type": "code",
   "execution_count": null,
   "metadata": {},
   "outputs": [],
   "source": [
    "a='manu'\n",
    "a=set(a)\n",
    "b='pandu'\n",
    "b=set(b)\n",
    "intersection(a,b)"
   ]
  },
  {
   "cell_type": "code",
   "execution_count": null,
   "metadata": {},
   "outputs": [],
   "source": [
    "s1={'h', 'r', 'n', 'm', 'o', 'a'}\n",
    "s2={'a','e','i','o','u','A','E','I','O','U'}\n",
    "def  minus(s1,s2):\n",
    "    s3=set()\n",
    "    for i in s1:\n",
    "        for j in s2:\n",
    "            if i==j:\n",
    "                break\n",
    "        else:        \n",
    "            s3.add(i)\n",
    "    return s3            \n",
    "            \n",
    " "
   ]
  },
  {
   "cell_type": "code",
   "execution_count": null,
   "metadata": {},
   "outputs": [],
   "source": [
    "a='property'\n",
    "a=set(a)\n",
    "b='documents'\n",
    "b=set(b)\n"
   ]
  },
  {
   "cell_type": "code",
   "execution_count": null,
   "metadata": {},
   "outputs": [],
   "source": [
    "a-b"
   ]
  },
  {
   "cell_type": "code",
   "execution_count": null,
   "metadata": {},
   "outputs": [],
   "source": [
    "minus(a,b)"
   ]
  },
  {
   "cell_type": "code",
   "execution_count": null,
   "metadata": {},
   "outputs": [],
   "source": []
  },
  {
   "cell_type": "code",
   "execution_count": null,
   "metadata": {},
   "outputs": [],
   "source": [
    "second_maximum([1,2,3,88,97,8,89])"
   ]
  },
  {
   "cell_type": "code",
   "execution_count": null,
   "metadata": {},
   "outputs": [],
   "source": [
    "a=[1,2,3,4,5,8,9]\n",
    "def remove(a,x):\n",
    "    b=[]\n",
    "    for i in a:\n",
    "        if i==x:\n",
    "            continue\n",
    "        else:\n",
    "            b.append(i)\n",
    "    return b        "
   ]
  },
  {
   "cell_type": "code",
   "execution_count": null,
   "metadata": {},
   "outputs": [],
   "source": [
    "remove(a,5)"
   ]
  },
  {
   "cell_type": "code",
   "execution_count": null,
   "metadata": {},
   "outputs": [],
   "source": [
    "a=[1,23,45,5,6,7]\n",
    "\n",
    "\n",
    "\n",
    "\n",
    "\n",
    "\n"
   ]
  },
  {
   "cell_type": "code",
   "execution_count": null,
   "metadata": {},
   "outputs": [],
   "source": [
    "\n",
    "def maximum(x):\n",
    "    for i in x:\n",
    "        for j in x:\n",
    "            if i<j:\n",
    "                break        \n",
    "        else:\n",
    "            return i\n",
    "           "
   ]
  },
  {
   "cell_type": "code",
   "execution_count": null,
   "metadata": {},
   "outputs": [],
   "source": [
    "maximum(a)"
   ]
  },
  {
   "cell_type": "code",
   "execution_count": null,
   "metadata": {},
   "outputs": [],
   "source": [
    "x=[1,2,3,6,7,9]\n",
    "def second_maximum(x):\n",
    "    a=[]\n",
    "    for i in x:\n",
    "        for j in x:\n",
    "            if i<j:\n",
    "                a.append(i)\n",
    "    print(maximum(a))   \n",
    "            "
   ]
  },
  {
   "cell_type": "code",
   "execution_count": null,
   "metadata": {},
   "outputs": [],
   "source": [
    " second_maximum(x)"
   ]
  },
  {
   "cell_type": "code",
   "execution_count": null,
   "metadata": {},
   "outputs": [],
   "source": [
    "a={1,2,3,4,5,6}\n",
    "b={1,6,3,9,70,5}\n",
    "c={6,3,11,12,13}\n",
    "m=[]\n",
    "x=[]\n",
    "for i in a:\n",
    "    for j in b:\n",
    "        if i==j:\n",
    "            break\n",
    "    else:\n",
    "        x.append(i)\n",
    "        for k in c:\n",
    "            if i==j==k:\n",
    "                m.append(i)\n",
    "print(x)                \n",
    "print(m)\n",
    "\n"
   ]
  },
  {
   "cell_type": "code",
   "execution_count": null,
   "metadata": {},
   "outputs": [],
   "source": [
    "a=int(input(\"enter a number:\"))\n",
    "b=int(input(\"enter a number\"))\n",
    "c=int(input(\"enter a number\"))\n",
    "if a==b==c:\n",
    "    print(\"three numbers are equal\")\n",
    "elif a==b or b==c or c==a:\n",
    "    print(\"two numbers are equal\")\n",
    "else:\n",
    "    print(\"none of the numbers are eqaul\")"
   ]
  },
  {
   "cell_type": "code",
   "execution_count": null,
   "metadata": {},
   "outputs": [],
   "source": [
    "a=[]\n",
    "for i in range(0,10):\n",
    "    b=int(input(\"enter a number:\"))\n",
    "    a.append(b)\n",
    "print(\"b=\",b)\n",
    "even=[]\n",
    "odd=[]\n",
    "for i in b:\n",
    "    if i%2==0:\n",
    "        even.append(i)\n",
    "    else:\n",
    "        odd.append(i)\n",
    "print(\"even numbers=\",even)\n",
    "print(\"odd numbers=\",odd)\n",
    "\n",
    "        "
   ]
  },
  {
   "cell_type": "code",
   "execution_count": null,
   "metadata": {},
   "outputs": [],
   "source": [
    "a=[33,53]  \n",
    "x=7\n",
    "sum=0\n",
    "y=[]\n",
    "for i in a:\n",
    "    sum=sum+i\n",
    "print(\"total kgs=\",sum)\n",
    "print(\"cost=\",sum*x)"
   ]
  },
  {
   "cell_type": "code",
   "execution_count": null,
   "metadata": {},
   "outputs": [],
   "source": [
    "a=[1,2,3,4,5,-1]\n",
    "a[1:5]\n",
    "a[0]\n",
    "a[-1]\n",
    "a.sort()\n",
    "print(a)\n",
    "a.remove(2)\n",
    "print(a)\n",
    "a.append(9)\n",
    "print(a)\n",
    "a.remove(a[4])\n",
    "print(a)\n",
    "a=set(a)\n",
    "print(a)\n",
    "a=list(a)\n",
    "for i in a:\n",
    "    if i==3:\n",
    "        continue\n",
    "    print(i)        \n"
   ]
  },
  {
   "cell_type": "code",
   "execution_count": null,
   "metadata": {},
   "outputs": [],
   "source": [
    "a=34,45,12\n",
    "sum=0\n",
    "for i in a:\n",
    "    sum=sum+i\n",
    "print(sum)"
   ]
  },
  {
   "cell_type": "code",
   "execution_count": null,
   "metadata": {},
   "outputs": [],
   "source": [
    "a=34\n",
    "while a>=2:\n",
    "    if a%2!=0:\n",
    "        break\n",
    "        print(\"not the power of 2\")\n",
    "else:\n",
    "    print(\"power of 2\")\n",
    "        \n",
    "        "
   ]
  },
  {
   "cell_type": "code",
   "execution_count": null,
   "metadata": {},
   "outputs": [],
   "source": [
    "a=int(input(\"enter a number:\"))\n",
    "while a>=2:\n",
    "    if a%2!=0:\n",
    "        print(\"not the power of 2\")\n",
    "        break\n",
    "    a=a/2    \n",
    "else:\n",
    "    print(\"power of 2\")\n",
    "        "
   ]
  },
  {
   "cell_type": "code",
   "execution_count": null,
   "metadata": {},
   "outputs": [],
   "source": [
    "1+2"
   ]
  },
  {
   "cell_type": "code",
   "execution_count": null,
   "metadata": {},
   "outputs": [],
   "source": [
    "a=int(input(\"enter a number:\"))\n",
    "while a>=2:\n",
    "    if a%2!=0:\n",
    "        print(\"not the power of 2\")\n",
    "        break\n",
    "    a=a/2    \n",
    "else:\n",
    "    print(\"power of 2\")\n",
    "        "
   ]
  },
  {
   "cell_type": "code",
   "execution_count": null,
   "metadata": {},
   "outputs": [],
   "source": [
    "#print first 10 natural numbers using while loop\n",
    "i=0\n",
    "while i<10:\n",
    "    i=i+1\n",
    "    print(i)\n",
    "    "
   ]
  },
  {
   "cell_type": "code",
   "execution_count": null,
   "metadata": {},
   "outputs": [],
   "source": [
    "#print the pattern \n",
    "# 1\n",
    "# 12\n",
    "# 123\n",
    "# 1234...\n",
    "\n",
    "a=1\n",
    "b=10\n",
    "sum=0\n",
    "for i in range(0,5):\n",
    "    sum=sum+a\n",
    "    print(sum)\n",
    "    a=a+b\n",
    "    b=b*10\n",
    "    "
   ]
  },
  {
   "cell_type": "code",
   "execution_count": null,
   "metadata": {},
   "outputs": [],
   "source": [
    "#Accept number from user and calculate the sum of all number between 1 and given number\n",
    "\n",
    "a=int(input(\"enter a number:\"))\n",
    "sum=0\n",
    "for i in range(2,a):\n",
    "    sum=sum+i\n",
    "print(\"sum=\",sum)    "
   ]
  },
  {
   "cell_type": "code",
   "execution_count": null,
   "metadata": {},
   "outputs": [],
   "source": [
    "a = [12, 15, 32, 42, 55, 75, 122, 132, 150, 180, 200]\n",
    "for i in a:\n",
    "    if i%5==0 and i<=150:\n",
    "        print(i)\n",
    "        \n",
    "a = [12, 15, 32, 42, 55, 75, 122, 132, 150, 180, 200]\n",
    "for i in a:\n",
    "    if i%5==0:\n",
    "        if i>150:\n",
    "            break\n",
    "            \n",
    "        print(i) \n",
    "           "
   ]
  },
  {
   "cell_type": "code",
   "execution_count": null,
   "metadata": {},
   "outputs": [],
   "source": [
    "a=int(input(\"enter a number:\"))\n",
    "a=str(a)\n",
    "len(a)\n"
   ]
  },
  {
   "cell_type": "code",
   "execution_count": null,
   "metadata": {},
   "outputs": [],
   "source": [
    "sum=5\n",
    "for i in range(0,5):\n",
    "    sum=5\n",
    "    for j in range(0,5):\n",
    "        print( sum ,end=\"\" )\n",
    "        sum=sum-1\n",
    "    \n",
    "        \n",
    "   \n",
    "    "
   ]
  },
  {
   "cell_type": "code",
   "execution_count": 6,
   "metadata": {},
   "outputs": [
    {
     "name": "stdout",
     "output_type": "stream",
     "text": [
      "[50, 40, 30, 20, 10]\n"
     ]
    }
   ],
   "source": [
    "#reverse the given numbers in the list\n",
    "a=[10,20,30,40,50]\n",
    "b=-1\n",
    "x=[]\n",
    "for i in a:\n",
    "    x.append(a[b])\n",
    "    b=b-1\n",
    "print(x)    "
   ]
  },
  {
   "cell_type": "code",
   "execution_count": null,
   "metadata": {},
   "outputs": [],
   "source": [
    "a=-10\n",
    "for i in range(0,10):\n",
    "    print(a)\n",
    "    a=a+1\n",
    "print(\"done!\")    \n",
    "    "
   ]
  },
  {
   "cell_type": "code",
   "execution_count": 5,
   "metadata": {},
   "outputs": [
    {
     "name": "stdout",
     "output_type": "stream",
     "text": [
      "enter both the numbers, in between which the prime numbers has to to printed\n",
      "a=1\n",
      "b=20\n",
      "[2, 3, 5, 7, 11, 13, 17, 19]\n"
     ]
    }
   ],
   "source": [
    "#print all the prime numbers within the given range\n",
    "print(\"enter both the numbers, in between which the prime numbers has to to printed\")\n",
    "a=int(input(\"a=\"))\n",
    "b=int(input(\"b=\"))\n",
    "x=[]\n",
    "for i in range(a+1,b):\n",
    "    for j in range(2,i):\n",
    "        if i%j==0:\n",
    "            break\n",
    "    else:\n",
    "        x.append(i)\n",
    "print(x)        \n",
    "            \n",
    "            \n",
    "    "
   ]
  },
  {
   "cell_type": "code",
   "execution_count": null,
   "metadata": {},
   "outputs": [],
   "source": [
    "a=2\n",
    "b=5\n",
    "print(a)\n",
    "print(b)\n",
    "sum=a+b\n",
    "print(sum)\n",
    "for i in range(10):\n",
    "    sum=sum+sum\n",
    "    print(sum)\n",
    "    \n",
    "    \n",
    "    "
   ]
  },
  {
   "cell_type": "code",
   "execution_count": null,
   "metadata": {},
   "outputs": [],
   "source": [
    "\n",
    "for j in range(0,7):\n",
    "    a=[0,1]\n",
    "    sum=1\n",
    "    for i in a:\n",
    "        sum=sum+i\n",
    "        print(i)\n",
    "        a.append(sum)\n",
    "    \n",
    "        "
   ]
  },
  {
   "cell_type": "code",
   "execution_count": null,
   "metadata": {},
   "outputs": [],
   "source": [
    "a=[1,2,3,4]\n",
    "x=5\n",
    "for i in a:\n",
    "    a.append(x)\n",
    "    x=x+1\n",
    "print(a)    "
   ]
  },
  {
   "cell_type": "code",
   "execution_count": 4,
   "metadata": {},
   "outputs": [
    {
     "data": {
      "text/plain": [
       "6"
      ]
     },
     "execution_count": 4,
     "metadata": {},
     "output_type": "execute_result"
    }
   ],
   "source": [
    "1+2+3"
   ]
  },
  {
   "cell_type": "code",
   "execution_count": 7,
   "metadata": {},
   "outputs": [
    {
     "data": {
      "text/plain": [
       "19"
      ]
     },
     "execution_count": 7,
     "metadata": {},
     "output_type": "execute_result"
    }
   ],
   "source": [
    "1+2+1+1+2+3+9"
   ]
  },
  {
   "cell_type": "code",
   "execution_count": 11,
   "metadata": {},
   "outputs": [
    {
     "name": "stdout",
     "output_type": "stream",
     "text": [
      "24\n"
     ]
    }
   ],
   "source": [
    "a=4\n",
    "factorial=1\n",
    "for i in range(1,5):\n",
    "    factorial=factorial*i\n",
    "print(factorial)    \n",
    "    "
   ]
  },
  {
   "cell_type": "code",
   "execution_count": 12,
   "metadata": {},
   "outputs": [
    {
     "name": "stdout",
     "output_type": "stream",
     "text": [
      "54321"
     ]
    }
   ],
   "source": [
    "a=12345\n",
    "b=str(a)\n",
    "for i in b:\n",
    "    c=a%10\n",
    "    print(c,end=\"\")\n",
    "    a=int(a/10)\n",
    "    "
   ]
  },
  {
   "cell_type": "code",
   "execution_count": 26,
   "metadata": {},
   "outputs": [
    {
     "name": "stdout",
     "output_type": "stream",
     "text": [
      "20\n",
      "40\n",
      "60\n",
      "80\n"
     ]
    }
   ],
   "source": [
    "a=[10,20,30,40,50,60,70,80,90]\n",
    "b=1\n",
    "while b<len(a):\n",
    "    print(a[b])\n",
    "    b=b+2    \n",
    "        \n",
    "   "
   ]
  },
  {
   "cell_type": "code",
   "execution_count": 30,
   "metadata": {},
   "outputs": [
    {
     "name": "stdout",
     "output_type": "stream",
     "text": [
      "0\n",
      "1\n",
      "8\n",
      "27\n",
      "64\n",
      "125\n",
      "216\n",
      "343\n"
     ]
    }
   ],
   "source": [
    "a=8\n",
    "for i in range(a):\n",
    "    print(i**3)"
   ]
  },
  {
   "cell_type": "code",
   "execution_count": 58,
   "metadata": {},
   "outputs": [
    {
     "name": "stdout",
     "output_type": "stream",
     "text": [
      "sum= 24690\n"
     ]
    }
   ],
   "source": [
    "a=1\n",
    "b=10\n",
    "sum=0\n",
    "for i in range(5):\n",
    "    sum=sum+a\n",
    "    a=a+b\n",
    "    b=b*10\n",
    "    \n",
    "print(\"sum=\",2*sum)       "
   ]
  },
  {
   "cell_type": "code",
   "execution_count": 45,
   "metadata": {},
   "outputs": [
    {
     "data": {
      "text/plain": [
       "123"
      ]
     },
     "execution_count": 45,
     "metadata": {},
     "output_type": "execute_result"
    }
   ],
   "source": [
    "1+11+111"
   ]
  },
  {
   "cell_type": "code",
   "execution_count": 49,
   "metadata": {},
   "outputs": [
    {
     "data": {
      "text/plain": [
       "24690"
      ]
     },
     "execution_count": 49,
     "metadata": {},
     "output_type": "execute_result"
    }
   ],
   "source": [
    "2 + 22 + 222 + 2222 + 22222"
   ]
  },
  {
   "cell_type": "code",
   "execution_count": 57,
   "metadata": {},
   "outputs": [
    {
     "data": {
      "text/plain": [
       "24690"
      ]
     },
     "execution_count": 57,
     "metadata": {},
     "output_type": "execute_result"
    }
   ],
   "source": [
    "2*(1+11+111+1111+11111)"
   ]
  },
  {
   "cell_type": "code",
   "execution_count": null,
   "metadata": {},
   "outputs": [],
   "source": [
    "a=\"*\"\n",
    "for i in range(5):\n",
    "    print(a)\n",
    "    a=a"
   ]
  },
  {
   "cell_type": "code",
   "execution_count": 59,
   "metadata": {},
   "outputs": [
    {
     "name": "stdout",
     "output_type": "stream",
     "text": [
      "(1, 2, 3, 4)\n"
     ]
    }
   ],
   "source": [
    "a=1,2,3,4\n",
    "print(a)"
   ]
  },
  {
   "cell_type": "code",
   "execution_count": 61,
   "metadata": {},
   "outputs": [
    {
     "name": "stdout",
     "output_type": "stream",
     "text": [
      "enter a number:40\n",
      "enter a number:50\n",
      "90\n"
     ]
    }
   ],
   "source": [
    "#Given a two integer numbers return their product and  if the product is greater than 1000, then return their sum\n",
    "a=int(input(\"enter a number:\"))\n",
    "b=int(input(\"enter a number:\"))\n",
    "if a*b>1000:\n",
    "    print(a+b)\n",
    "else:\n",
    "    print(a*b)"
   ]
  },
  {
   "cell_type": "code",
   "execution_count": 82,
   "metadata": {},
   "outputs": [
    {
     "name": "stdout",
     "output_type": "stream",
     "text": [
      "[1, 2, 3, 6, 11, 20, 37, 68, 125]\n"
     ]
    }
   ],
   "source": [
    "#fibnoic series by taking three numbers\n",
    "a=1\n",
    "b=2\n",
    "c=3\n",
    "x=[1,2,3]\n",
    "for i in range(6):\n",
    "    d=a+b+c\n",
    "    x.append(d)\n",
    "    a=b\n",
    "    b=c\n",
    "    c=d\n",
    "print(x)    "
   ]
  },
  {
   "cell_type": "code",
   "execution_count": 90,
   "metadata": {},
   "outputs": [
    {
     "ename": "SyntaxError",
     "evalue": "'return' outside function (<ipython-input-90-a6b353cf4d54>, line 3)",
     "output_type": "error",
     "traceback": [
      "\u001b[0;36m  File \u001b[0;32m\"<ipython-input-90-a6b353cf4d54>\"\u001b[0;36m, line \u001b[0;32m3\u001b[0m\n\u001b[0;31m    return a[0]\u001b[0m\n\u001b[0m    ^\u001b[0m\n\u001b[0;31mSyntaxError\u001b[0m\u001b[0;31m:\u001b[0m 'return' outside function\n"
     ]
    }
   ],
   "source": [
    "a=[1,2,3,4,1]\n",
    "if a[0]==a[-1]:\n",
    "    return"
   ]
  },
  {
   "cell_type": "code",
   "execution_count": 101,
   "metadata": {},
   "outputs": [
    {
     "name": "stdout",
     "output_type": "stream",
     "text": [
      "2\n"
     ]
    }
   ],
   "source": [
    "#Return the total count of sub-string “Emma” appears in the given string\n",
    "a='Emma is good developer. Emma is a writer'\n",
    "a=a.split()\n",
    "count=0\n",
    "for i in a:\n",
    "    if i=='Emma':\n",
    "        count=count+1\n",
    "print(count)        "
   ]
  },
  {
   "cell_type": "code",
   "execution_count": 124,
   "metadata": {},
   "outputs": [
    {
     "name": "stdout",
     "output_type": "stream",
     "text": [
      "1112211not palindrome\n"
     ]
    }
   ],
   "source": [
    "a=1122111\n",
    "y=str(a)\n",
    "x=a\n",
    "b=str(a)\n",
    "for i in b:\n",
    "    c=a%10\n",
    "    print(c,end=\"\")\n",
    "    a=int(a/10)\n",
    "     \n",
    "m=-1\n",
    "p=len(y)\n",
    "for i in range(p):\n",
    "    if y[i]!=y[m]: \n",
    "        print(\"not palindrome\")\n",
    "        break\n",
    "    m=m-1    \n",
    "else:\n",
    "    print(\"palindrome\")\n",
    "        \n",
    "        \n",
    "    \n",
    "\n",
    "    "
   ]
  },
  {
   "cell_type": "code",
   "execution_count": null,
   "metadata": {},
   "outputs": [],
   "source": [
    "a=[1,2,3,5,8,13,21]\n"
   ]
  },
  {
   "cell_type": "code",
   "execution_count": 129,
   "metadata": {},
   "outputs": [
    {
     "name": "stdout",
     "output_type": "stream",
     "text": [
      "enter a day9\n",
      "day- 1 10\n",
      "day- 2 20\n",
      "day- 3 40\n",
      "day- 4 80\n",
      "day- 5 160\n",
      "day- 6 320\n",
      "day- 7 640\n",
      "day- 9 1280\n"
     ]
    }
   ],
   "source": [
    "#covid-19 cases\n",
    "#day 1 =10\n",
    "#day 2 =20\n",
    "#day 3= 40\n",
    "#total number of cases on day 29\n",
    "x=10\n",
    "day=int(input(\"enter a day\"))\n",
    "for i in range(1,day+1):\n",
    "    if i==8:\n",
    "        continue\n",
    "    print(\"day-\" ,i,x)\n",
    "    x=x*2\n",
    "    "
   ]
  },
  {
   "cell_type": "code",
   "execution_count": 130,
   "metadata": {},
   "outputs": [
    {
     "name": "stdout",
     "output_type": "stream",
     "text": [
      "enter a number3\n",
      "3 * 1 = 3\n",
      "3 * 2 = 6\n",
      "3 * 3 = 9\n",
      "3 * 4 = 12\n",
      "3 * 5 = 15\n",
      "3 * 6 = 18\n",
      "3 * 7 = 21\n",
      "3 * 8 = 24\n",
      "3 * 9 = 27\n",
      "3 * 10 = 30\n"
     ]
    }
   ],
   "source": [
    "x=int(input(\"enter a number\"))\n",
    "for i in range(1,11):\n",
    "    print(x,'*',i,'=',x*i)"
   ]
  },
  {
   "cell_type": "code",
   "execution_count": 134,
   "metadata": {},
   "outputs": [
    {
     "name": "stdout",
     "output_type": "stream",
     "text": [
      "7\n"
     ]
    }
   ],
   "source": [
    "a='manohar'\n",
    "j=0\n",
    "for i in a:\n",
    "    j=j+1\n",
    "print(j)    \n",
    "    "
   ]
  },
  {
   "cell_type": "code",
   "execution_count": 144,
   "metadata": {},
   "outputs": [
    {
     "name": "stdout",
     "output_type": "stream",
     "text": [
      "22\n"
     ]
    }
   ],
   "source": [
    "a='he is a great intellectual'\n",
    "j=0\n",
    "for i in a:\n",
    "    if i.isspace():\n",
    "        continue\n",
    "    j=j+1\n",
    "print(j)\n"
   ]
  },
  {
   "cell_type": "code",
   "execution_count": 148,
   "metadata": {},
   "outputs": [
    {
     "name": "stdout",
     "output_type": "stream",
     "text": [
      "5\n"
     ]
    }
   ],
   "source": [
    "a='he is a great intellectual'\n",
    "j=0\n",
    "for i in a:\n",
    "    if i==' ':\n",
    "        j=j+1\n",
    "print(j)    "
   ]
  },
  {
   "cell_type": "code",
   "execution_count": 149,
   "metadata": {},
   "outputs": [
    {
     "data": {
      "text/plain": [
       "3"
      ]
     },
     "execution_count": 149,
     "metadata": {},
     "output_type": "execute_result"
    }
   ],
   "source": [
    "max(1,2,3)"
   ]
  },
  {
   "cell_type": "code",
   "execution_count": 158,
   "metadata": {},
   "outputs": [
    {
     "name": "stdout",
     "output_type": "stream",
     "text": [
      "199\n"
     ]
    }
   ],
   "source": [
    "a=[1,2,3,1,-1,20,12,0,199]\n",
    "\n",
    "for i in a:\n",
    "    for j in a:\n",
    "        if i<j:\n",
    "            break\n",
    "    else:\n",
    "        print(i)\n",
    "            "
   ]
  },
  {
   "cell_type": "code",
   "execution_count": 165,
   "metadata": {},
   "outputs": [
    {
     "name": "stdout",
     "output_type": "stream",
     "text": [
      "enter bus number2\n",
      "rajdhani\n"
     ]
    }
   ],
   "source": [
    "dict={1:'rajdhani',2:'rajdhani',3:'ordinary'}\n",
    "x=int(input(\"enter bus number\"))\n",
    "print(dict[x])"
   ]
  },
  {
   "cell_type": "code",
   "execution_count": 160,
   "metadata": {},
   "outputs": [
    {
     "name": "stdout",
     "output_type": "stream",
     "text": [
      "enter a service no:1\n",
      "rajadhani\n"
     ]
    }
   ],
   "source": [
    "a=int(input(\"enter a service no:\"))\n",
    "if a==1 or a==2 or a==3 or a==4:\n",
    "    print(\"rajadhani\")\n",
    "elif a==5 or a==6:\n",
    "    print(\"super luxury\")\n",
    "elif a==7:\n",
    "    print(\"ordinary\")\n",
    "elif a==9 or a==12:\n",
    "    print(\"amaravathi\")"
   ]
  },
  {
   "cell_type": "code",
   "execution_count": 170,
   "metadata": {},
   "outputs": [
    {
     "name": "stdout",
     "output_type": "stream",
     "text": [
      "1\n"
     ]
    }
   ],
   "source": [
    "x={'a':1,'b':2,'c':3,'d':4}\n",
    "print(x['a'])"
   ]
  },
  {
   "cell_type": "code",
   "execution_count": 176,
   "metadata": {},
   "outputs": [
    {
     "name": "stdout",
     "output_type": "stream",
     "text": [
      "square of 1 = 1\n",
      "square of 2 = 4\n",
      "square of 3 = 9\n",
      "square of 4 = 16\n",
      "square of 5 = 25\n",
      "square of 6 = 36\n",
      "square of 7 = 49\n",
      "square of 8 = 64\n",
      "square of 9 = 81\n",
      "square of 10 = 100\n"
     ]
    }
   ],
   "source": [
    "for i in range(1,11):\n",
    "    print(\"square of\",i,\"=\",i**2)"
   ]
  },
  {
   "cell_type": "code",
   "execution_count": 178,
   "metadata": {},
   "outputs": [
    {
     "name": "stdout",
     "output_type": "stream",
     "text": [
      "3 5 4\n"
     ]
    }
   ],
   "source": [
    "a=1\n",
    "b=2\n",
    "c=3\n",
    "print(a+b,b+c,c+a)"
   ]
  },
  {
   "cell_type": "code",
   "execution_count": 181,
   "metadata": {},
   "outputs": [
    {
     "name": "stdout",
     "output_type": "stream",
     "text": [
      "1\n",
      "2\n",
      "3\n",
      "4\n",
      "5\n",
      "6\n",
      "7\n",
      "8\n",
      "9\n",
      "10\n"
     ]
    }
   ],
   "source": [
    "i=1\n",
    "while i<=10:\n",
    "    print(i)\n",
    "    i=i+1\n",
    "    "
   ]
  },
  {
   "cell_type": "code",
   "execution_count": 182,
   "metadata": {},
   "outputs": [
    {
     "name": "stdout",
     "output_type": "stream",
     "text": [
      "MyNameIsJames"
     ]
    }
   ],
   "source": [
    "a=['My', 'Name', 'Is', 'James']\n",
    "for i in a:\n",
    "    print(i,end=\"\")"
   ]
  },
  {
   "cell_type": "code",
   "execution_count": 189,
   "metadata": {},
   "outputs": [
    {
     "name": "stdout",
     "output_type": "stream",
     "text": [
      "1234"
     ]
    }
   ],
   "source": [
    "a=1234.456\n",
    "a=str(a)\n",
    "for i in a:\n",
    "    if i=='.':\n",
    "        break\n",
    "    print(i,end=\"\")\n",
    "    "
   ]
  },
  {
   "cell_type": "code",
   "execution_count": 194,
   "metadata": {},
   "outputs": [
    {
     "name": "stdout",
     "output_type": "stream",
     "text": [
      "enter a number:1.2\n",
      "enter a number:2.3\n",
      "enter a number:1.5\n",
      "enter a number:6.5\n",
      "enter a number:7.8\n",
      "[1.2, 2.3, 1.5, 6.5, 7.8]\n"
     ]
    }
   ],
   "source": [
    "a=[]\n",
    "for i in range(1,6):\n",
    "    x=float(input(\"enter a number:\"))\n",
    "    a.append(x)\n",
    "print(a)    \n",
    "    "
   ]
  },
  {
   "cell_type": "code",
   "execution_count": 196,
   "metadata": {},
   "outputs": [
    {
     "name": "stdout",
     "output_type": "stream",
     "text": [
      "Enter the list size : 5\n",
      "Enter number at location 0 :\n",
      "1\n",
      "Enter number at location 1 :\n",
      "2\n",
      "Enter number at location 2 :\n",
      "4\n",
      "Enter number at location 3 :\n",
      "3\n",
      "Enter number at location 4 :\n",
      "5\n",
      "User List is  [1.0, 2.0, 4.0, 3.0, 5.0]\n"
     ]
    }
   ],
   "source": [
    "floatNumbers = []\n",
    "n = int(input(\"Enter the list size : \"))\n",
    "\n",
    "for i in range(0, n):\n",
    "    print(\"Enter number at location\", i, \":\")\n",
    "    item = float(input())\n",
    "    floatNumbers.append(item)\n",
    "    \n",
    "print(\"User List is \", floatNumbers)"
   ]
  },
  {
   "cell_type": "code",
   "execution_count": 198,
   "metadata": {},
   "outputs": [
    {
     "name": "stdout",
     "output_type": "stream",
     "text": [
      "list 1\n",
      "list 2\n",
      "list 3\n",
      "list 4\n",
      "list 6\n",
      "list 7\n",
      "list 8\n"
     ]
    }
   ],
   "source": [
    "for i in range(1,9):\n",
    "    if i==5:\n",
    "        continue\n",
    "    print(\"list\",i)\n",
    "    "
   ]
  },
  {
   "cell_type": "code",
   "execution_count": null,
   "metadata": {},
   "outputs": [],
   "source": [
    "a,b=int(input(\"enter a number\"\\n))"
   ]
  },
  {
   "cell_type": "code",
   "execution_count": 2,
   "metadata": {},
   "outputs": [
    {
     "name": "stdout",
     "output_type": "stream",
     "text": [
      "1\n",
      "2\n",
      "3\n",
      "4\n",
      "5\n"
     ]
    }
   ],
   "source": [
    "print(\"1\\n2\\n3\\n4\\n5\")"
   ]
  },
  {
   "cell_type": "code",
   "execution_count": null,
   "metadata": {},
   "outputs": [],
   "source": [
    "str1, str2, str3 = input(\"Enter three string\").split()\n",
    "print(str1, str2, str3)"
   ]
  },
  {
   "cell_type": "code",
   "execution_count": 16,
   "metadata": {},
   "outputs": [
    {
     "ename": "KeyError",
     "evalue": "'quantity'",
     "output_type": "error",
     "traceback": [
      "\u001b[0;31m---------------------------------------------------------------------------\u001b[0m",
      "\u001b[0;31mKeyError\u001b[0m                                  Traceback (most recent call last)",
      "\u001b[0;32m<ipython-input-16-e94a7b63486a>\u001b[0m in \u001b[0;36m<module>\u001b[0;34m\u001b[0m\n\u001b[1;32m      3\u001b[0m \u001b[0mprice\u001b[0m \u001b[0;34m=\u001b[0m \u001b[0;36m450\u001b[0m\u001b[0;34m\u001b[0m\u001b[0;34m\u001b[0m\u001b[0m\n\u001b[1;32m      4\u001b[0m \u001b[0mstatement1\u001b[0m \u001b[0;34m=\u001b[0m \u001b[0;34m\"I have {quantity} dollars so I can buy {total_money} football for {price} dollars.\"\u001b[0m\u001b[0;34m\u001b[0m\u001b[0;34m\u001b[0m\u001b[0m\n\u001b[0;32m----> 5\u001b[0;31m \u001b[0mprint\u001b[0m\u001b[0;34m(\u001b[0m\u001b[0mstatement1\u001b[0m\u001b[0;34m.\u001b[0m\u001b[0mformat\u001b[0m\u001b[0;34m(\u001b[0m\u001b[0mquantity\u001b[0m\u001b[0;34m,\u001b[0m \u001b[0mtotalMoney\u001b[0m\u001b[0;34m,\u001b[0m \u001b[0mprice\u001b[0m\u001b[0;34m)\u001b[0m\u001b[0;34m)\u001b[0m\u001b[0;34m\u001b[0m\u001b[0;34m\u001b[0m\u001b[0m\n\u001b[0m",
      "\u001b[0;31mKeyError\u001b[0m: 'quantity'"
     ]
    }
   ],
   "source": [
    "quantity = 3\n",
    "total_Money = 1000\n",
    "price = 450\n",
    "statement1 = \"I have {quantity} dollars so I can buy {total_money} football for {price} dollars.\"\n",
    "print(statement1.format(quantity, totalMoney, price))"
   ]
  },
  {
   "cell_type": "code",
   "execution_count": 18,
   "metadata": {},
   "outputs": [
    {
     "name": "stdout",
     "output_type": "stream",
     "text": [
      "I have 100 dollars so I can buy 3 football for 450.00 dollars.\n"
     ]
    }
   ],
   "source": [
    "quantity = 3\n",
    "totalMoney = 100\n",
    "price = 450\n",
    "statement1 = \"I have {1} dollars so I can buy {0} football for {2:.2f} dollars.\"\n",
    "print(statement1.format(quantity, totalMoney, price))"
   ]
  },
  {
   "cell_type": "code",
   "execution_count": 25,
   "metadata": {},
   "outputs": [
    {
     "ename": "AttributeError",
     "evalue": "'list' object has no attribute 'replace'",
     "output_type": "error",
     "traceback": [
      "\u001b[0;31m---------------------------------------------------------------------------\u001b[0m",
      "\u001b[0;31mAttributeError\u001b[0m                            Traceback (most recent call last)",
      "\u001b[0;32m<ipython-input-25-c1821962052e>\u001b[0m in \u001b[0;36m<module>\u001b[0;34m\u001b[0m\n\u001b[1;32m      1\u001b[0m \u001b[0mx\u001b[0m\u001b[0;34m=\u001b[0m\u001b[0;34m'manu is a very good story teller'\u001b[0m\u001b[0;34m\u001b[0m\u001b[0;34m\u001b[0m\u001b[0m\n\u001b[1;32m      2\u001b[0m \u001b[0mb\u001b[0m\u001b[0;34m=\u001b[0m\u001b[0mx\u001b[0m\u001b[0;34m.\u001b[0m\u001b[0msplit\u001b[0m\u001b[0;34m(\u001b[0m\u001b[0;34m)\u001b[0m\u001b[0;34m\u001b[0m\u001b[0;34m\u001b[0m\u001b[0m\n\u001b[0;32m----> 3\u001b[0;31m \u001b[0mprint\u001b[0m\u001b[0;34m(\u001b[0m\u001b[0mb\u001b[0m\u001b[0;34m.\u001b[0m\u001b[0mreplace\u001b[0m\u001b[0;34m(\u001b[0m\u001b[0mmanu\u001b[0m\u001b[0;34m,\u001b[0m\u001b[0mpandu\u001b[0m\u001b[0;34m)\u001b[0m\u001b[0;34m)\u001b[0m\u001b[0;34m\u001b[0m\u001b[0;34m\u001b[0m\u001b[0m\n\u001b[0m",
      "\u001b[0;31mAttributeError\u001b[0m: 'list' object has no attribute 'replace'"
     ]
    }
   ],
   "source": [
    "\n",
    "x='manu is a very good story teller'\n",
    "print(x.replace(manu,pandu))"
   ]
  },
  {
   "cell_type": "code",
   "execution_count": 26,
   "metadata": {},
   "outputs": [],
   "source": [
    "name='manu'\n",
    "age='22'\n",
    "def namge(name,age):\n",
    "    print(\"name:\",name)\n",
    "    print(\"age:\",age)\n",
    "    \n"
   ]
  },
  {
   "cell_type": "code",
   "execution_count": 27,
   "metadata": {},
   "outputs": [
    {
     "name": "stdout",
     "output_type": "stream",
     "text": [
      "name: manu\n",
      "age: 23\n"
     ]
    }
   ],
   "source": [
    "name='manu'\n",
    "age='23'\n",
    "namge(name,age)"
   ]
  },
  {
   "cell_type": "code",
   "execution_count": 33,
   "metadata": {},
   "outputs": [],
   "source": [
    "a=[]\n",
    "def printt(a):\n",
    "    for i in range(n):\n",
    "        x=int(input(\"enter a number:\"))\n",
    "        a.append(x)\n",
    "    print(a)"
   ]
  },
  {
   "cell_type": "code",
   "execution_count": 35,
   "metadata": {},
   "outputs": [
    {
     "name": "stdout",
     "output_type": "stream",
     "text": [
      "enter a number:1\n",
      "enter a number:2\n",
      "enter a number:3\n",
      "enter a number:1\n",
      "enter a number:2\n",
      "enter a number:1\n",
      "enter a number:2\n",
      "enter a number:1\n",
      "enter a number:2\n",
      "enter a number:1\n",
      "[1, 2, 1, 2, 3, 1, 2, 1, 2, 1, 2, 1]\n"
     ]
    }
   ],
   "source": [
    "printt([1,2])"
   ]
  },
  {
   "cell_type": "markdown",
   "metadata": {},
   "source": [
    "## b=[1,3,4,5]\n",
    "printt(b)"
   ]
  },
  {
   "cell_type": "code",
   "execution_count": 30,
   "metadata": {},
   "outputs": [
    {
     "name": "stdout",
     "output_type": "stream",
     "text": [
      "1\n",
      "2\n",
      "3\n",
      "4\n",
      "5\n"
     ]
    }
   ],
   "source": [
    "printt([1,2,3,4,5])"
   ]
  },
  {
   "cell_type": "code",
   "execution_count": 38,
   "metadata": {},
   "outputs": [],
   "source": [
    "\n",
    "def calculation(a):\n",
    "    sum=0\n",
    "    for i in a:\n",
    "        sum=sum+i\n",
    "    return sum"
   ]
  },
  {
   "cell_type": "code",
   "execution_count": 39,
   "metadata": {},
   "outputs": [
    {
     "data": {
      "text/plain": [
       "12"
      ]
     },
     "execution_count": 39,
     "metadata": {},
     "output_type": "execute_result"
    }
   ],
   "source": [
    "calculation([4,2,1,2,3])"
   ]
  },
  {
   "cell_type": "code",
   "execution_count": 41,
   "metadata": {},
   "outputs": [
    {
     "data": {
      "text/plain": [
       "6"
      ]
     },
     "execution_count": 41,
     "metadata": {},
     "output_type": "execute_result"
    }
   ],
   "source": [
    "calculation([1,2,3])"
   ]
  },
  {
   "cell_type": "code",
   "execution_count": 42,
   "metadata": {},
   "outputs": [
    {
     "data": {
      "text/plain": [
       "15"
      ]
     },
     "execution_count": 42,
     "metadata": {},
     "output_type": "execute_result"
    }
   ],
   "source": [
    "calculation((1,2,3,4,5))"
   ]
  },
  {
   "cell_type": "code",
   "execution_count": 51,
   "metadata": {},
   "outputs": [
    {
     "name": "stdout",
     "output_type": "stream",
     "text": [
      "24\n"
     ]
    }
   ],
   "source": [
    "num=4\n",
    "def calculateSum(num):\n",
    "    if num>=1:\n",
    "        return num * calculateSum(num-1)\n",
    "    else:\n",
    "        return 1\n",
    "    \n",
    "\n",
    "\n",
    "res = calculateSum(num)\n",
    "print(res)\n",
    "#print(a*(0.5+0.5)) will not excute because float + float =float,int+float=float,float*float=float,int*float=flo"
   ]
  },
  {
   "cell_type": "markdown",
   "metadata": {},
   "source": [
    "# strings"
   ]
  },
  {
   "cell_type": "code",
   "execution_count": 128,
   "metadata": {},
   "outputs": [
    {
     "ename": "SyntaxError",
     "evalue": "invalid syntax (<ipython-input-128-182f64d0f29c>, line 36)",
     "output_type": "error",
     "traceback": [
      "\u001b[0;36m  File \u001b[0;32m\"<ipython-input-128-182f64d0f29c>\"\u001b[0;36m, line \u001b[0;32m36\u001b[0m\n\u001b[0;31m    print(\"32.\",a[0]::)\u001b[0m\n\u001b[0m                    ^\u001b[0m\n\u001b[0;31mSyntaxError\u001b[0m\u001b[0;31m:\u001b[0m invalid syntax\n"
     ]
    }
   ],
   "source": [
    "a='manu'\n",
    "b='12346'\n",
    "c='hf39@#$?+{}'\n",
    "\n",
    "print(\"1.\",a)\n",
    "print(\"2.\",b)\n",
    "print(\"3.\",a+b)\n",
    "print(\"4.\",a*3)\n",
    "print(\"5.\",b*5)\n",
    "print(\"6.\",a,b)\n",
    "print(\"7.\",a*3,b*4)\n",
    "print(\"8.\",a+b+a)\n",
    "print(\"9.\",2*(a+b))\n",
    "print(\"10.\",a[0])\n",
    "print(\"11.\",a[-1])\n",
    "print(\"12.\",a[1],a[2])\n",
    "print(\"13.\",a[0:4])\n",
    "print(\"14.\",a[1:3])\n",
    "print(\"15.\",a[:])\n",
    "print(\"16.\",a[0:])\n",
    "print(\"17.\",a[2:])\n",
    "print(\"18.\",a[::])\n",
    "print(\"19.\",a[::-1])\n",
    "print(\"20.\",a[:-1])\n",
    "print(\"21.\",a[:-2])\n",
    "print(\"22.\",a[0:-1])\n",
    "print(\"23.\",a[1:1])\n",
    "print(\"24.\",a[1],b[4])\n",
    "print(\"25.\",a[2:4],b[0:3])\n",
    "print(\"26.\",a[2:4]+b[0:3])\n",
    "print(\"27.\",a[1]+a[3])\n",
    "print(\"28.\",2*a[2])\n",
    "print(\"29.\",3*b[1:3])\n",
    "print(\"30.\",a+b+c)\n",
    "print(\"31.\",a+b,b+c)\n"
   ]
  },
  {
   "cell_type": "code",
   "execution_count": 53,
   "metadata": {},
   "outputs": [
    {
     "data": {
      "text/plain": [
       "'manu'"
      ]
     },
     "execution_count": 53,
     "metadata": {},
     "output_type": "execute_result"
    }
   ],
   "source": [
    "a"
   ]
  },
  {
   "cell_type": "code",
   "execution_count": 54,
   "metadata": {},
   "outputs": [
    {
     "name": "stdout",
     "output_type": "stream",
     "text": [
      "manu\n"
     ]
    }
   ],
   "source": [
    "print(a)"
   ]
  },
  {
   "cell_type": "code",
   "execution_count": 55,
   "metadata": {},
   "outputs": [],
   "source": [
    "a=\"manu\""
   ]
  },
  {
   "cell_type": "code",
   "execution_count": 56,
   "metadata": {},
   "outputs": [
    {
     "data": {
      "text/plain": [
       "'manu'"
      ]
     },
     "execution_count": 56,
     "metadata": {},
     "output_type": "execute_result"
    }
   ],
   "source": [
    "a"
   ]
  },
  {
   "cell_type": "code",
   "execution_count": 57,
   "metadata": {},
   "outputs": [
    {
     "name": "stdout",
     "output_type": "stream",
     "text": [
      "manu\n"
     ]
    }
   ],
   "source": [
    "print(a)"
   ]
  },
  {
   "cell_type": "code",
   "execution_count": 59,
   "metadata": {},
   "outputs": [
    {
     "data": {
      "text/plain": [
       "'manuchess'"
      ]
     },
     "execution_count": 59,
     "metadata": {},
     "output_type": "execute_result"
    }
   ],
   "source": [
    "a='manu'\n",
    "b='chess'\n",
    "a+b"
   ]
  },
  {
   "cell_type": "code",
   "execution_count": 63,
   "metadata": {},
   "outputs": [
    {
     "name": "stdout",
     "output_type": "stream",
     "text": [
      "manuchess\n"
     ]
    },
    {
     "data": {
      "text/plain": [
       "'manumanumanu'"
      ]
     },
     "execution_count": 63,
     "metadata": {},
     "output_type": "execute_result"
    }
   ],
   "source": [
    "print(a+b)"
   ]
  },
  {
   "cell_type": "code",
   "execution_count": null,
   "metadata": {},
   "outputs": [],
   "source": [
    "a='manohar'\n",
    "b='12346'\n",
    "c='hf39@#$?+{}'\n",
    "\n",
    "print(\"1.\",a)\n",
    "print(\"2.\",b)\n",
    "print(\"3.\",a+b)\n",
    "print(\"4.\",a*3)\n",
    "print(\"5.\",b*5)\n",
    "print(\"6.\",a,b)\n",
    "print(\"7.\",a*3,b*4)\n",
    "print(\"8.\",a+b+a)\n",
    "print(\"9.\",2*(a+b))\n",
    "print(\"10.\",a[0])\n",
    "print(\"11.\",a[-1])\n",
    "print(\"12.\",a[1],a[2])\n",
    "print(\"13.\",a[0:4])\n",
    "print(\"14.\",a[1:3])\n",
    "print(\"15.\",a[:])\n",
    "print(\"16.\",a[0:])\n",
    "print(\"17.\",a[2:])\n",
    "print(\"18.\",a[::])\n",
    "print(\"19.\",a[::-1])\n",
    "print(\"20.\",a[:-1])\n",
    "print(\"21.\",a[:-2])\n",
    "print(\"22.\",a[0:-1])\n",
    "print(\"23.\",a[1:1])\n",
    "print(\"24.\",a[1],b[4])\n",
    "print(\"25.\",a[2:4],b[0:3])\n",
    "print(\"26.\",a[2:4]+b[0:3])\n",
    "print(\"27.\",a[1]+a[3])\n",
    "print(\"28.\",2*a[2])\n",
    "print(\"29.\",3*b[1:3])\n",
    "print(\"30.\",a+b+c)\n",
    "print(\"31.\",a+b,b+c)\n",
    "print(\"32.\",a[1:4:2])\n"
   ]
  },
  {
   "cell_type": "markdown",
   "metadata": {},
   "source": [
    "# string functions"
   ]
  },
  {
   "cell_type": "code",
   "execution_count": 172,
   "metadata": {},
   "outputs": [
    {
     "name": "stdout",
     "output_type": "stream",
     "text": [
      "-------------------.1\n",
      "D\n",
      "e\n",
      "l\n",
      "i\n",
      "g\n",
      "h\n",
      "t\n",
      "f\n",
      "u\n",
      "l\n",
      "-------------------.2\n",
      "e\n",
      "l\n",
      "i\n",
      "g\n",
      "-------------------.3\n",
      "Delightful\n",
      "Delightful\n",
      "Delightful\n",
      "Delightful\n",
      "Delightful\n",
      "Delightful\n",
      "Delightful\n",
      "Delightful\n",
      "Delightful\n",
      "Delightful\n",
      "-------------------.4\n",
      "D\n",
      "l\n",
      "g\n",
      "t\n",
      "u\n",
      "-------------------.5\n",
      "10\n",
      "-------------------.6\n",
      "true\n",
      "-------------------.7\n",
      "delightful\n",
      "-------------------.8\n",
      "DELIGHTFUL\n",
      "-------------------.9\n",
      "ELI\n",
      "-------------------.10\n",
      "abc\n",
      "-------------------.11\n",
      "abc MAN\n",
      "-------------------.12\n",
      "Delightful HF39@#$?+{}\n",
      "-------------------.13\n",
      "['abc']\n",
      "-------------------.14\n",
      "Delightful ['12346']\n"
     ]
    }
   ],
   "source": [
    "a='Delightful'\n",
    "\n",
    "print(\"-------------------.1\")\n",
    "\n",
    "for i in a:\n",
    "    print(i)\n",
    "\n",
    "print(\"-------------------.2\")\n",
    "\n",
    "for i in a[1:5]:\n",
    "    print(i)\n",
    "\n",
    "print(\"-------------------.3\")\n",
    "    \n",
    "for i in a:\n",
    "    print(a)\n",
    "\n",
    "print(\"-------------------.4\")\n",
    "\n",
    "    \n",
    "for i in a[0:11:2]:\n",
    "    print(i)\n",
    "\n",
    "print(\"-------------------.5\")\n",
    "    \n",
    "print(len(a))\n",
    "\n",
    "print(\"-------------------.6\")\n",
    "\n",
    "if 'g' in a:\n",
    "    print(\"true\")\n",
    "else:\n",
    "    print(\"false\")\n",
    "\n",
    "print(\"-------------------.7\")\n",
    "\n",
    "print(a.lower())\n",
    "\n",
    "\n",
    "print(\"-------------------.8\")\n",
    "\n",
    "print(a.upper())\n",
    "\n",
    "print(\"-------------------.9\")\n",
    "\n",
    "print(a[1:4].upper())\n",
    "\n",
    "\n",
    "print(\"-------------------.10\")\n",
    "\n",
    "print('ABC'.lower())\n",
    "\n",
    "\n",
    "print(\"-------------------.11\")\n",
    "\n",
    "print('ABC'.lower(),'man'.upper())\n",
    "\n",
    "\n",
    "print(\"-------------------.12\")\n",
    "\n",
    "print(a,c.upper())\n",
    "\n",
    "\n",
    "print(\"-------------------.13\")\n",
    "\n",
    "print('abc'.split())\n",
    "\n",
    "\n",
    "print(\"-------------------.14\")\n",
    "\n",
    "print(a,b.split())\n",
    "\n"
   ]
  },
  {
   "cell_type": "code",
   "execution_count": 187,
   "metadata": {},
   "outputs": [
    {
     "name": "stdout",
     "output_type": "stream",
     "text": [
      "nothing is perpetual in this world\n",
      "-------------------.1\n",
      "nothing is perpetual in this world manu\n",
      "-------------------.2\n",
      "34\n",
      "-------------------.3\n",
      "n\n",
      "o\n",
      "t\n",
      "h\n",
      "i\n",
      "n\n",
      "g\n",
      " \n",
      "i\n",
      "s\n",
      " \n",
      "p\n",
      "e\n",
      "r\n",
      "p\n",
      "e\n",
      "t\n",
      "u\n",
      "a\n",
      "l\n",
      " \n",
      "i\n",
      "n\n",
      " \n",
      "t\n",
      "h\n",
      "i\n",
      "s\n",
      " \n",
      "w\n",
      "o\n",
      "r\n",
      "l\n",
      "d\n",
      "-------------------.4\n",
      "nothing is perpetual in this world nothing is perpetual in this world\n",
      "-------------------.5\n",
      "nothing is perpetual in this worldnothing is perpetual in this world\n",
      "-------------------.6\n",
      "nothing is p\n",
      "-------------------.7\n",
      "dlrow siht ni lauteprep si gnihton\n",
      "-------------------.8\n",
      "['nothing', 'is', 'perpetual', 'in', 'this', 'world']\n",
      "-------------------.9\n",
      "6\n",
      "-------------------.10\n",
      "34 6\n",
      "-------------------.11\n",
      "NOTHING IS PERPETUAL IN THIS WORLD\n",
      "-------------------.12\n",
      "NOTHING  perp\n"
     ]
    }
   ],
   "source": [
    "\n",
    "a='nothing is perpetual in this world'\n",
    "print(a)\n",
    "\n",
    "print(\"-------------------.1\")\n",
    "\n",
    "print(a+' manu')\n",
    "\n",
    "print(\"-------------------.2\")\n",
    "\n",
    "print(len(a))\n",
    "\n",
    "print(\"-------------------.3\")\n",
    "\n",
    "for i in a:\n",
    "    print(i)\n",
    "    \n",
    "print(\"-------------------.4\")\n",
    "\n",
    "print(a+' '+a)\n",
    "\n",
    "print(\"-------------------.5\")\n",
    "\n",
    "print(a*2)\n",
    "\n",
    "print(\"-------------------.6\")\n",
    "\n",
    "print(a[0:12])\n",
    "\n",
    "print(\"-------------------.7\")\n",
    "\n",
    "print(a[::-1])\n",
    "\n",
    "print(\"-------------------.8\")\n",
    "\n",
    "print(a.split())\n",
    "\n",
    "\n",
    "print(\"-------------------.9\")\n",
    "\n",
    "b=a.split()\n",
    "print(len(b))\n",
    "\n",
    "print(\"-------------------.10\")\n",
    "\n",
    "print(len(a),len(b))\n",
    "\n",
    "print(\"-------------------.11\")\n",
    "\n",
    "print(a.upper())\n",
    "\n",
    "print(\"-------------------.12\")\n",
    "\n",
    "print(a[0:8].upper()+a[10:15].lower())\n",
    "\n",
    "\n"
   ]
  },
  {
   "cell_type": "code",
   "execution_count": 189,
   "metadata": {},
   "outputs": [
    {
     "name": "stdout",
     "output_type": "stream",
     "text": [
      "she is a good dancer\n"
     ]
    }
   ],
   "source": [
    "a='intellectual'\n",
    "b='extraordinary'\n",
    "c='he is a good dancer'\n",
    "d=c.replace('he','she')\n",
    "\n",
    "print(d)"
   ]
  },
  {
   "cell_type": "code",
   "execution_count": 194,
   "metadata": {},
   "outputs": [
    {
     "name": "stdout",
     "output_type": "stream",
     "text": [
      "i\n",
      "t\n",
      "l\n",
      "e\n",
      "t\n",
      "a\n"
     ]
    }
   ],
   "source": [
    "x=0\n",
    "b=int(len(a))\n",
    "c=int(b/2)\n",
    "for i in range(c):\n",
    "    print(a[x])\n",
    "    x=x+2    "
   ]
  },
  {
   "cell_type": "code",
   "execution_count": 502,
   "metadata": {},
   "outputs": [
    {
     "name": "stdout",
     "output_type": "stream",
     "text": [
      "t30h4si6js28 5di7gs5w djogonkaeji duonqf.b kihssiv]sj; apevspe0irwc w espvjeeqrrbf yoewrsgmtwai7nmvcauetqse9  7et2vh8ei2rsw\n"
     ]
    }
   ],
   "source": [
    "#encoding a string\n",
    "#take a string to be encoded\n",
    "#take a 2nd string to multiplex with the original string\n",
    "\n",
    "a='this is one of his epic performances ever'\n",
    "b='3462575dgkjdn.ksvjaver ever estimate this kind of person'\n",
    "c='0sj8dgwjoaiuqbis];ps0wwsjqbywgw7vuq97282wb9qbabs'\n",
    "x=0\n",
    "z=[]\n",
    "for i in a:\n",
    "    z.append(a[x]+b[x]+c[x])\n",
    "    x=x+1\n",
    "#print(z) \n",
    "sum=''\n",
    "for i in z:\n",
    "    sum=sum+i\n",
    "print(sum)    \n",
    "    "
   ]
  },
  {
   "cell_type": "code",
   "execution_count": 491,
   "metadata": {},
   "outputs": [
    {
     "name": "stdout",
     "output_type": "stream",
     "text": [
      "this is one of his epic performances ever"
     ]
    }
   ],
   "source": [
    "#decoding a string(you should know the key(all the letters on even places))\n",
    "a='t30h4si6js28 5di7gs5w djogonkaeji duonqf.b kihssiv]sj; apevspe0irwc w espvjeeqrrbf yoewrsgmtwai7nmvcauetqse9  7et2vh8ei2rsw'\n",
    "for i in a[0: :3]:\n",
    "    print(i,end=\"\")"
   ]
  },
  {
   "cell_type": "code",
   "execution_count": 492,
   "metadata": {},
   "outputs": [
    {
     "name": "stdout",
     "output_type": "stream",
     "text": [
      "things= 2\n"
     ]
    }
   ],
   "source": [
    "#finding the frequency of a particular word in the given sentecnce.\n",
    "a='one who has the opportunity do to great things , please go ahead so that, good things will follow you'\n",
    "a=a.split()\n",
    "sum=0\n",
    "for i in a:\n",
    "    if i=='things':\n",
    "        sum=sum+1\n",
    "print(\"things=\",sum)        "
   ]
  },
  {
   "cell_type": "code",
   "execution_count": 215,
   "metadata": {},
   "outputs": [
    {
     "name": "stdout",
     "output_type": "stream",
     "text": [
      "['t', 'h', 'e', 'y', ' ', 'w', 'e', 'n', 't', ' ', 's', 'o', ',', ' ', 't', 'h', 'e', 'y', ' ', 'h', 'a', 'v', 'e', ' ', 't', 'o', ' ', 's', 'o', ' ', 't', 'h', 'i', 's', ' ', 'i', 's']\n"
     ]
    }
   ],
   "source": [
    "# doubt\n",
    "a='they went so, they have to so this is'\n",
    "x=[]\n",
    "for i in a:\n",
    "    x.append(i)\n",
    "print(x)    "
   ]
  },
  {
   "cell_type": "code",
   "execution_count": 501,
   "metadata": {},
   "outputs": [
    {
     "name": "stdout",
     "output_type": "stream",
     "text": [
      "senorita is a good dancer in tshe girls dance group, He also she is a great singer\n"
     ]
    }
   ],
   "source": [
    "a='manu is a good dancer in the boys dance group, also he is a great singer'\n",
    "b=a.replace('manu','senorita')\n",
    "c=b.replace('boy','girl')\n",
    "d=c.replace('he','she')\n",
    "print(d)"
   ]
  },
  {
   "cell_type": "code",
   "execution_count": 497,
   "metadata": {},
   "outputs": [
    {
     "name": "stdout",
     "output_type": "stream",
     "text": [
      "MANU IS A GOOD BOY, MANU IS ALSO A GREAT SINGER. HE ALWAYS DOES SOME NAUGHTY THINGS. HE IS A IDIOT\n"
     ]
    }
   ],
   "source": [
    "a='manu is a good boy, manu is also a great singer. he always does some naughty things. he is a idiot'\n",
    "a=a.upper()\n",
    "print(a)"
   ]
  },
  {
   "cell_type": "code",
   "execution_count": 240,
   "metadata": {},
   "outputs": [
    {
     "name": "stdout",
     "output_type": "stream",
     "text": [
      "manu is a good boy, manu is also a great singer. he always does some naughty things. he is a idiot\n"
     ]
    }
   ],
   "source": [
    "a='MANU IS A GOOD BOY, MANU IS ALSO A GREAT SINGER. HE ALWAYS DOES SOME NAUGHTY THINGS. HE IS A IDIOT'\n",
    "a=a.lower()\n",
    "print(a)"
   ]
  },
  {
   "cell_type": "code",
   "execution_count": 241,
   "metadata": {},
   "outputs": [
    {
     "data": {
      "text/plain": [
       "3"
      ]
     },
     "execution_count": 241,
     "metadata": {},
     "output_type": "execute_result"
    }
   ],
   "source": [
    "a='he is a he is a  he'\n",
    "a.count('he')\n"
   ]
  },
  {
   "cell_type": "code",
   "execution_count": 242,
   "metadata": {},
   "outputs": [
    {
     "name": "stdout",
     "output_type": "stream",
     "text": [
      "Hello, and welcome to my world.\n"
     ]
    }
   ],
   "source": [
    "txt = \"hello, and welcome to my world.\"\n",
    "\n",
    "x = txt.capitalize()\n",
    "\n",
    "print (x)"
   ]
  },
  {
   "cell_type": "code",
   "execution_count": 296,
   "metadata": {},
   "outputs": [
    {
     "name": "stdout",
     "output_type": "stream",
     "text": [
      "@*!%\n"
     ]
    }
   ],
   "source": [
    "x='manu'\n",
    "x=x.replace('m','@')\n",
    "x=x.replace('a','*')\n",
    "x=x.replace('n','!')\n",
    "x=x.replace('u','%')\n",
    "print(x)"
   ]
  },
  {
   "cell_type": "code",
   "execution_count": 293,
   "metadata": {},
   "outputs": [
    {
     "name": "stdout",
     "output_type": "stream",
     "text": [
      "1*21@1#@*@^##!!@+#1\n"
     ]
    }
   ],
   "source": [
    "x='manu is a good boy'\n",
    "x=x.replace(' ','@')\n",
    "x=x.replace('a','*')\n",
    "x=x.replace('b','+')\n",
    "x=x.replace('c','&')\n",
    "x=x.replace('d','!')\n",
    "x=x.replace('e','@@')\n",
    "x=x.replace('f','$$$')\n",
    "x=x.replace('g','^')\n",
    "x=x.replace('h',')')\n",
    "x=x.replace('i',']')\n",
    "x=x.replace('j','|')\n",
    "x=x.replace('k','###')\n",
    "x=x.replace('l','88')\n",
    "x=x.replace('m','121')\n",
    "x=x.replace('n','009')\n",
    "x=x.replace('o','n')\n",
    "x=x.replace('p','::')\n",
    "x=x.replace('q','\"\"')\n",
    "x=x.replace('r',';')\n",
    "x=x.replace('s','m')\n",
    "x=x.replace('t','q')\n",
    "x=x.replace('u','j')\n",
    "x=x.replace('v','`')\n",
    "x=x.replace('w','~')\n",
    "x=x.replace('x','[')\n",
    "x=x.replace('y','a')\n",
    "x=x.replace('z','3')\n",
    "x=x.replace('A','>')\n",
    "x=x.replace('B',',')\n",
    "x=x.replace('C','..')\n",
    "x=x.replace('D','-')\n",
    "x=x.replace('E','__')\n",
    "x=x.replace('F','pp')\n",
    "x=x.replace('G','vcx')\n",
    "x=x.replace('H','\\')\n",
    "x=x.replace('I','w')\n",
    "x=x.replace('J','o')\n",
    "x=x.replace('K','%%')\n",
    "x=x.replace('L','a')\n",
    "x=x.replace('M','e')\n",
    "x=x.replace('N','<')\n",
    "x=x.replace('O','i')\n",
    "x=x.replace('P','s')\n",
    "x=x.replace('Q','{')\n",
    "x=x.replace('R','2')\n",
    "x=x.replace('S','#')\n",
    "x=x.replace('T','&')\n",
    "x=x.replace('U','1')\n",
    "x=x.replace('V','2')\n",
    "x=x.replace('W','#')\n",
    "x=x.replace('X','&')\n",
    "x=x.replace('Y','1')\n",
    "x=x.replace('Z','2')\n",
    "print(x)\n",
    "\n",
    "\n",
    "\n",
    "\n",
    "\n",
    "        "
   ]
  },
  {
   "cell_type": "code",
   "execution_count": 299,
   "metadata": {},
   "outputs": [
    {
     "name": "stdout",
     "output_type": "stream",
     "text": [
      "@@@*!%\n"
     ]
    }
   ],
   "source": [
    "x='manu'\n",
    "x=x.replace('m','@@@')\n",
    "x=x.replace('a','*')\n",
    "x=x.replace('n','!')\n",
    "x=x.replace('u','%')\n",
    "print(x)"
   ]
  },
  {
   "cell_type": "code",
   "execution_count": 300,
   "metadata": {},
   "outputs": [
    {
     "name": "stdout",
     "output_type": "stream",
     "text": [
      "manu\n"
     ]
    }
   ],
   "source": [
    "x='@@@*!%'\n",
    "x=x.replace('@@@','m')\n",
    "x=x.replace('*','a')\n",
    "x=x.replace('!','n')\n",
    "x=x.replace('%','u')\n",
    "print(x)\n"
   ]
  },
  {
   "cell_type": "code",
   "execution_count": 306,
   "metadata": {},
   "outputs": [
    {
     "name": "stdout",
     "output_type": "stream",
     "text": [
      "[[1, 2, 3], [4, 5, 6], [1, 2, 3], [4, 5, 66]]\n"
     ]
    }
   ],
   "source": [
    "a=[[1,2,3],\n",
    "  [4,5,6]]\n",
    "b= [[1,2,3],\n",
    "   [4,5,66]]\n",
    "print(a+b)"
   ]
  },
  {
   "cell_type": "code",
   "execution_count": 369,
   "metadata": {},
   "outputs": [
    {
     "name": "stdout",
     "output_type": "stream",
     "text": [
      "[4, 8, 10]\n",
      "[-3, 12, 14]\n",
      "[8, 10, 16]\n"
     ]
    }
   ],
   "source": [
    "#addition of matrices\n",
    "\n",
    "a = [[1, 4, 5],\n",
    "     [-5, 8, 9],\n",
    "     [3,4,9]]\n",
    "\n",
    "b=[[2,3,4],\n",
    "   [1,3,4],\n",
    "   [4,5,6]]\n",
    "\n",
    "c=[[1,1,1],\n",
    "  [1,1,1],\n",
    "  [1,1,1]]\n",
    "\n",
    "s=[[0,0,0],\n",
    "  [0,0,0],\n",
    "  [0,0,0]]\n",
    "\n",
    "x=0\n",
    "for i in a:\n",
    "    y=0\n",
    "    for j in a:\n",
    "        s[x][y]=a[x][y]+b[x][y]+c[x][y]\n",
    "        y=y+1\n",
    "    x=x+1\n",
    "for i in s:\n",
    "    print(i)\n",
    "\n",
    "    \n",
    "    "
   ]
  },
  {
   "cell_type": "code",
   "execution_count": 322,
   "metadata": {},
   "outputs": [
    {
     "name": "stdout",
     "output_type": "stream",
     "text": [
      "3\n"
     ]
    }
   ],
   "source": [
    "a=['man','njk','hui']\n",
    "print(len(a))"
   ]
  },
  {
   "cell_type": "code",
   "execution_count": 354,
   "metadata": {},
   "outputs": [
    {
     "name": "stdout",
     "output_type": "stream",
     "text": [
      "[1, 2, 3]\n"
     ]
    }
   ],
   "source": [
    "a=[1,2]\n",
    "b=[3]\n",
    "c=[]\n",
    "c=a+b\n",
    "print(c)"
   ]
  },
  {
   "cell_type": "code",
   "execution_count": 358,
   "metadata": {},
   "outputs": [
    {
     "name": "stdout",
     "output_type": "stream",
     "text": [
      "enter a number:1\n",
      "enter a number:4\n",
      "enter a number:11\n",
      "enter a number:67\n",
      "enter a number:34\n",
      "[1, 4, 11, 67, 34]\n"
     ]
    }
   ],
   "source": [
    "# internal logic for append function\n",
    "b=[]\n",
    "for k in range(5):\n",
    "    x=int(input(\"enter a number:\"))\n",
    "    x=[x]\n",
    "    b=b+x\n",
    "print(b)    "
   ]
  },
  {
   "cell_type": "code",
   "execution_count": 351,
   "metadata": {},
   "outputs": [
    {
     "name": "stdout",
     "output_type": "stream",
     "text": [
      "[1, 3, 3, 4]\n"
     ]
    }
   ],
   "source": [
    "a=[1,3]\n",
    "b=[3,4]\n",
    "c=a+b\n",
    "print(c)"
   ]
  },
  {
   "cell_type": "code",
   "execution_count": 353,
   "metadata": {},
   "outputs": [
    {
     "name": "stdout",
     "output_type": "stream",
     "text": [
      "[1, 2, 4]\n"
     ]
    }
   ],
   "source": [
    "a=[1,2]\n",
    "b=[4]\n",
    "print(a+b)"
   ]
  },
  {
   "cell_type": "code",
   "execution_count": 374,
   "metadata": {},
   "outputs": [
    {
     "name": "stdout",
     "output_type": "stream",
     "text": [
      "[[2, 8], [32, 50]]\n"
     ]
    }
   ],
   "source": [
    "a=[[1,2],\n",
    "  [4,5]]\n",
    "\n",
    "b=[[1,2],\n",
    "  [4,5]]\n",
    "\n",
    "s=[[0,0],\n",
    "  [0,0]]\n",
    "x=0\n",
    "k=0\n",
    "m=0\n",
    "for i in a:\n",
    "    l=0\n",
    "    y=0\n",
    "    n=1\n",
    "    for j in a:\n",
    "        s[k][l]=a[x][y]*b[x][y]+a[m][n]*b[n][m]\n",
    "        l=l+1\n",
    "        y=y+1\n",
    "    x=x+1    \n",
    "    k=k+1    \n",
    "print(s)    \n",
    "        \n",
    "        \n",
    "        "
   ]
  },
  {
   "cell_type": "code",
   "execution_count": null,
   "metadata": {},
   "outputs": [],
   "source": [
    "a=[[1,2],\n",
    "  [4,5]]\n",
    "\n",
    "b=[[1,2],\n",
    "  [4,5]]\n",
    "\n",
    "s=[[0,0],\n",
    "  [0,0]]\n"
   ]
  },
  {
   "cell_type": "code",
   "execution_count": 487,
   "metadata": {},
   "outputs": [],
   "source": [
    "a='he is a great intellectual moreover, he is a rich man'\n",
    "def manu(a):\n",
    "    c=a\n",
    "    a=a.split()\n",
    "    b=a\n",
    "    a=set(a)\n",
    "    m=[]\n",
    "    for i in a:\n",
    "        sum=0\n",
    "        for j in b:\n",
    "            if i==j:\n",
    "                sum=sum+1\n",
    "        m.append(sum)\n",
    "    \n",
    "    c=c.split()\n",
    "    b=c\n",
    "    c=set(c)\n",
    "    for i in c:\n",
    "        sum=0\n",
    "        for j in b:\n",
    "            if i==j:\n",
    "                sum=sum+1\n",
    "        if sum==max(m):\n",
    "            print(i)\n",
    "\n",
    "    \n",
    "    \n",
    "\n",
    "\n",
    "\n",
    "    "
   ]
  },
  {
   "cell_type": "code",
   "execution_count": null,
   "metadata": {},
   "outputs": [],
   "source": [
    "a='he is a great intellectual moreover, he is a rich man'\n",
    "b=a.split()"
   ]
  },
  {
   "cell_type": "code",
   "execution_count": 433,
   "metadata": {},
   "outputs": [
    {
     "name": "stdout",
     "output_type": "stream",
     "text": [
      "boy\n",
      "good\n"
     ]
    }
   ],
   "source": [
    "b='he is a good boy good boy'\n",
    "manu(b)"
   ]
  },
  {
   "cell_type": "code",
   "execution_count": 503,
   "metadata": {},
   "outputs": [
    {
     "name": "stdout",
     "output_type": "stream",
     "text": [
      "a = 2\n",
      "he = 2\n",
      "is = 2\n"
     ]
    }
   ],
   "source": [
    "#find the maximum repeated word in the given string\n",
    "a='he is a great intellectual moreover, he is a rich man'\n",
    "c=a\n",
    "a=a.split()\n",
    "b=a\n",
    "a=set(a)\n",
    "m=[]\n",
    "for i in a:\n",
    "    sum=0\n",
    "    for j in b:\n",
    "        if i==j:\n",
    "            sum=sum+1\n",
    "    m.append(sum)\n",
    "\n",
    "c=c.split()\n",
    "b=c\n",
    "c=set(c)\n",
    "for i in c:\n",
    "    sum=0\n",
    "    for j in b:\n",
    "        if i==j:\n",
    "            sum=sum+1\n",
    "    if sum==max(m):\n",
    "        print(i,\"=\",max(m))\n"
   ]
  },
  {
   "cell_type": "code",
   "execution_count": 444,
   "metadata": {},
   "outputs": [
    {
     "name": "stdout",
     "output_type": "stream",
     "text": [
      "3\n",
      "[4, 5, 6]\n",
      "[8, 9, 10]\n"
     ]
    }
   ],
   "source": [
    "a=[[1,2,3],\n",
    "   [4,5,6],\n",
    "   [8,9,10]]\n",
    "\n",
    "print(a[0][2])\n",
    "print(a[1])\n",
    "print(a[2])"
   ]
  },
  {
   "cell_type": "code",
   "execution_count": 450,
   "metadata": {},
   "outputs": [
    {
     "ename": "SyntaxError",
     "evalue": "leading zeros in decimal integer literals are not permitted; use an 0o prefix for octal integers (<ipython-input-450-f23abbf74812>, line 2)",
     "output_type": "error",
     "traceback": [
      "\u001b[0;36m  File \u001b[0;32m\"<ipython-input-450-f23abbf74812>\"\u001b[0;36m, line \u001b[0;32m2\u001b[0m\n\u001b[0;31m    01 =01+01\u001b[0m\n\u001b[0m     ^\u001b[0m\n\u001b[0;31mSyntaxError\u001b[0m\u001b[0;31m:\u001b[0m leading zeros in decimal integer literals are not permitted; use an 0o prefix for octal integers\n"
     ]
    }
   ],
   "source": [
    "00 = 00 + 00\n",
    "01 =01+01\n",
    "10 =10+10\n",
    "11=11+11"
   ]
  },
  {
   "cell_type": "code",
   "execution_count": 458,
   "metadata": {},
   "outputs": [
    {
     "name": "stdout",
     "output_type": "stream",
     "text": [
      "[6, 8, 2]\n",
      "[10, 12, 4]\n"
     ]
    }
   ],
   "source": [
    "a=[[1,2,1],\n",
    "  [3,4,2]]\n",
    "\n",
    "b=[[5,6,1],\n",
    "  [7,8,2]]\n",
    "\n",
    "c=[[0,0,0],\n",
    "  [0,0,0]]\n",
    "\n",
    "x=0\n",
    "\n",
    "for i in range(len(a)):\n",
    "    y=0\n",
    "    for j in range(len(a[0])) :\n",
    "        c[x][y]=a[x][y]+b[x][y]\n",
    "        y=y+1\n",
    "    x=x+1           \n",
    "for i in c:\n",
    "    print(i)\n",
    "\n"
   ]
  },
  {
   "cell_type": "code",
   "execution_count": 464,
   "metadata": {},
   "outputs": [
    {
     "name": "stdout",
     "output_type": "stream",
     "text": [
      "m@1a#2n$3o^yh$ya%8r#3\n"
     ]
    }
   ],
   "source": [
    "a='manohar is a good boy'\n",
    "b='@#$^$%#$@*'\n",
    "c='123yy8337uyjhdsgfjdhidfjdbjdhduydgjghuhu'\n",
    "x=[]\n",
    "m=0\n",
    "for i in a:\n",
    "    x.append(a[m]+b[m]+c[m])\n",
    "    m=m+1\n",
    "#print(x)\n",
    "sum=''\n",
    "for i in x:\n",
    "    sum=sum+i\n",
    "print(sum)    \n",
    "    \n",
    "    "
   ]
  },
  {
   "cell_type": "code",
   "execution_count": null,
   "metadata": {},
   "outputs": [],
   "source": []
  },
  {
   "cell_type": "code",
   "execution_count": 468,
   "metadata": {},
   "outputs": [
    {
     "name": "stdout",
     "output_type": "stream",
     "text": [
      "['m', 'a', 'n', 'o', 'h', 'a', 'r']\n"
     ]
    }
   ],
   "source": [
    "p='m@1a#2n$3o^yh$ya%8r#3'\n",
    "v=[]\n",
    "for i in p[0::3]:\n",
    "    v.append(i)\n",
    "print(v)\n",
    "#sum=''\n",
    "#for i in v:\n",
    "    #sum=sum+i\n",
    "#print(sum)    \n",
    "    "
   ]
  },
  {
   "cell_type": "code",
   "execution_count": null,
   "metadata": {},
   "outputs": [],
   "source": []
  },
  {
   "cell_type": "code",
   "execution_count": 507,
   "metadata": {},
   "outputs": [
    {
     "name": "stdout",
     "output_type": "stream",
     "text": [
      "rich = 1\n",
      "a = 2\n",
      "man = 1\n",
      "guy, = 1\n",
      "he = 2\n",
      "moreover = 1\n",
      "great = 1\n",
      "is = 2\n"
     ]
    }
   ],
   "source": [
    "a='he is a great guy, moreover he is a rich man'\n",
    "a=a.split()\n",
    "b=set(a)\n",
    "m=[]\n",
    "for i in b:\n",
    "    sum=0\n",
    "    for j in a:\n",
    "        if i==j:\n",
    "            sum=sum+1\n",
    "    print(i,\"=\",sum)\n"
   ]
  },
  {
   "cell_type": "code",
   "execution_count": 488,
   "metadata": {},
   "outputs": [
    {
     "name": "stdout",
     "output_type": "stream",
     "text": [
      "he\n"
     ]
    }
   ],
   "source": [
    "c='he is great guy he he guy'\n",
    "manu(c)"
   ]
  },
  {
   "cell_type": "code",
   "execution_count": 526,
   "metadata": {},
   "outputs": [
    {
     "name": "stdout",
     "output_type": "stream",
     "text": [
      "15\n"
     ]
    }
   ],
   "source": [
    "#internal logic of len function\n",
    "a='my name is manu'\n",
    "sum=0\n",
    "for i in a:\n",
    "    sum=sum+1\n",
    "print(sum)    \n",
    "    \n",
    "      "
   ]
  },
  {
   "cell_type": "code",
   "execution_count": 538,
   "metadata": {},
   "outputs": [
    {
     "name": "stdout",
     "output_type": "stream",
     "text": [
      "['m', 'y', 'n', 'a', 'm', 'e', 'i', 's', 'm', 'a', 'n', 'u']\n"
     ]
    },
    {
     "data": {
      "text/plain": [
       "12"
      ]
     },
     "execution_count": 538,
     "metadata": {},
     "output_type": "execute_result"
    }
   ],
   "source": [
    "a='my name is manu'\n",
    "x=[]\n",
    "for i in a:\n",
    "    if i==' ':\n",
    "        pass\n",
    "    else:\n",
    "        x.append(i)\n",
    "print(x)\n",
    "len(x)\n",
    "        "
   ]
  },
  {
   "cell_type": "code",
   "execution_count": 527,
   "metadata": {},
   "outputs": [
    {
     "name": "stdout",
     "output_type": "stream",
     "text": [
      "['m', 'y', 'n', 'a', 'm', 'e', 'i', 's', 'm', 'a', 'n', 'u']\n",
      "12\n"
     ]
    }
   ],
   "source": [
    "a='my name is manu'\n",
    "x=[]\n",
    "t=0\n",
    "for i in a:\n",
    "    if i==' ':\n",
    "        pass\n",
    "    else:\n",
    "        x.append(a[t])\n",
    "    t=t+1\n",
    "print(x)\n",
    "sum=0\n",
    "for i in x:\n",
    "    sum=sum+1\n",
    "print(sum)    \n",
    "    "
   ]
  },
  {
   "cell_type": "code",
   "execution_count": 524,
   "metadata": {},
   "outputs": [
    {
     "name": "stdout",
     "output_type": "stream",
     "text": [
      "['m', 'y', 'n', 'a', 'm', 'e', 'i', 's', 'm', 'a', 'n', 'u']\n"
     ]
    },
    {
     "data": {
      "text/plain": [
       "12"
      ]
     },
     "execution_count": 524,
     "metadata": {},
     "output_type": "execute_result"
    }
   ],
   "source": [
    "a='my name is manu'\n",
    "x=[]\n",
    "t=0\n",
    "for i in a:\n",
    "    if i!=' ':\n",
    "        x.append(a[t])\n",
    "    t=t+1\n",
    "print(x) \n",
    "len(x)"
   ]
  },
  {
   "cell_type": "code",
   "execution_count": 525,
   "metadata": {},
   "outputs": [
    {
     "name": "stdout",
     "output_type": "stream",
     "text": [
      "12\n"
     ]
    }
   ],
   "source": [
    "a='my name is manu'\n",
    "x=[]\n",
    "sum=0\n",
    "for i in a:\n",
    "    if i==' ':\n",
    "        continue\n",
    "    sum=sum+1\n",
    "print(sum)    \n",
    "\n",
    "\n",
    "\n",
    "    "
   ]
  },
  {
   "cell_type": "code",
   "execution_count": 612,
   "metadata": {},
   "outputs": [
    {
     "name": "stdout",
     "output_type": "stream",
     "text": [
      "['my', 'yname', 'nms', '']\n"
     ]
    }
   ],
   "source": [
    "a='my name is manu'\n",
    "x=list(a)    \n",
    "m=[]\n",
    "for i in range(4):\n",
    "    sum=''\n",
    "    for k in x:\n",
    "        if k==' ':\n",
    "            break\n",
    "        sum=sum+k    \n",
    "    m.append(sum)\n",
    "    for j in x:\n",
    "        x.remove(j)\n",
    "        if j==' ':\n",
    "            break     \n",
    "            \n",
    "print(m)    \n",
    "    \n",
    "        \n",
    "        "
   ]
  },
  {
   "cell_type": "code",
   "execution_count": 569,
   "metadata": {},
   "outputs": [
    {
     "name": "stdout",
     "output_type": "stream",
     "text": [
      "['m', 'y', ' ', 'n', 'a', 'm', 'e', ' ', 'i', 's', ' ', 'm', 'a', 'n', 'u']\n",
      "['m', 'y', ' ', 'n', 'a', 'm', 'e', ' ', 'i', 's', ' ', 'm', 'a', 'n', 'u']\n"
     ]
    }
   ],
   "source": [
    "a='my name is manu'\n",
    "x=[]\n",
    "for j in a:\n",
    "    x=x+[j] \n",
    "print(x) \n",
    "\n",
    "\n",
    "a='my name is manu'\n",
    "x=[]\n",
    "for j in a:\n",
    "    x.append(j)\n",
    "print(x)    \n"
   ]
  },
  {
   "cell_type": "code",
   "execution_count": 563,
   "metadata": {},
   "outputs": [
    {
     "name": "stdout",
     "output_type": "stream",
     "text": [
      "my\n"
     ]
    }
   ],
   "source": [
    "sum=''\n",
    "for i in x:\n",
    "    if i==' ':\n",
    "        break\n",
    "    sum=sum+i\n",
    "print(sum)    "
   ]
  },
  {
   "cell_type": "code",
   "execution_count": 559,
   "metadata": {},
   "outputs": [
    {
     "name": "stdout",
     "output_type": "stream",
     "text": [
      "[1, 3]\n"
     ]
    }
   ],
   "source": [
    "a=[1,2,3]\n",
    "a.remove(2)\n",
    "print(a)"
   ]
  },
  {
   "cell_type": "code",
   "execution_count": 565,
   "metadata": {},
   "outputs": [
    {
     "name": "stdout",
     "output_type": "stream",
     "text": [
      "['m', 'a', 'n', 'u', ' ', 'i', 's']\n"
     ]
    }
   ],
   "source": [
    "a='manu is'\n",
    "a=list(a)\n",
    "print(a)\n",
    "list()"
   ]
  },
  {
   "cell_type": "code",
   "execution_count": 566,
   "metadata": {},
   "outputs": [
    {
     "name": "stdout",
     "output_type": "stream",
     "text": [
      "['m', 'y', 'n', 'a', 'm', 'e']\n"
     ]
    }
   ],
   "source": [
    "a='myname'\n",
    "a=list(a)\n",
    "print(a)"
   ]
  },
  {
   "cell_type": "code",
   "execution_count": 582,
   "metadata": {},
   "outputs": [
    {
     "name": "stdout",
     "output_type": "stream",
     "text": [
      "['name']\n"
     ]
    }
   ],
   "source": [
    "a=['my', 'name']\n",
    "a.remove('my')\n",
    "print(a)"
   ]
  },
  {
   "cell_type": "code",
   "execution_count": 607,
   "metadata": {},
   "outputs": [
    {
     "ename": "AttributeError",
     "evalue": "'str' object has no attribute 'pop'",
     "output_type": "error",
     "traceback": [
      "\u001b[0;31m---------------------------------------------------------------------------\u001b[0m",
      "\u001b[0;31mAttributeError\u001b[0m                            Traceback (most recent call last)",
      "\u001b[0;32m<ipython-input-607-7d55a13f4b8a>\u001b[0m in \u001b[0;36m<module>\u001b[0;34m\u001b[0m\n\u001b[1;32m      1\u001b[0m \u001b[0ma\u001b[0m\u001b[0;34m=\u001b[0m\u001b[0;34m'manu'\u001b[0m\u001b[0;34m\u001b[0m\u001b[0;34m\u001b[0m\u001b[0m\n\u001b[0;32m----> 2\u001b[0;31m \u001b[0ma\u001b[0m\u001b[0;34m.\u001b[0m\u001b[0mpop\u001b[0m\u001b[0;34m(\u001b[0m\u001b[0;34m'm'\u001b[0m\u001b[0;34m)\u001b[0m\u001b[0;34m\u001b[0m\u001b[0;34m\u001b[0m\u001b[0m\n\u001b[0m\u001b[1;32m      3\u001b[0m \u001b[0mprint\u001b[0m\u001b[0;34m(\u001b[0m\u001b[0ma\u001b[0m\u001b[0;34m)\u001b[0m\u001b[0;34m\u001b[0m\u001b[0;34m\u001b[0m\u001b[0m\n",
      "\u001b[0;31mAttributeError\u001b[0m: 'str' object has no attribute 'pop'"
     ]
    }
   ],
   "source": [
    "a='manu'\n",
    "a.pop('m')\n",
    "print(a)"
   ]
  },
  {
   "cell_type": "code",
   "execution_count": 625,
   "metadata": {},
   "outputs": [
    {
     "data": {
      "text/plain": [
       "3"
      ]
     },
     "execution_count": 625,
     "metadata": {},
     "output_type": "execute_result"
    }
   ],
   "source": [
    "a=1\n",
    "b=2\n",
    "a+b\n",
    "    "
   ]
  },
  {
   "cell_type": "code",
   "execution_count": 621,
   "metadata": {},
   "outputs": [
    {
     "name": "stdout",
     "output_type": "stream",
     "text": [
      "3\n",
      "['1', '2']\n"
     ]
    }
   ],
   "source": [
    "a='123'\n",
    "a=list(a)\n",
    "print(a[-1])\n",
    "a.remove(a[-1])\n",
    "\n",
    "print(a)"
   ]
  },
  {
   "cell_type": "code",
   "execution_count": 629,
   "metadata": {},
   "outputs": [
    {
     "ename": "SyntaxError",
     "evalue": "invalid syntax (<ipython-input-629-52e7ed5ab2b7>, line 2)",
     "output_type": "error",
     "traceback": [
      "\u001b[0;36m  File \u001b[0;32m\"<ipython-input-629-52e7ed5ab2b7>\"\u001b[0;36m, line \u001b[0;32m2\u001b[0m\n\u001b[0;31m    a=a.split(0::2)\u001b[0m\n\u001b[0m               ^\u001b[0m\n\u001b[0;31mSyntaxError\u001b[0m\u001b[0;31m:\u001b[0m invalid syntax\n"
     ]
    }
   ],
   "source": [
    "a='10010100100101010101010101010001001001010000101010001010100010101010101001000101001010101001110110101110101101011101'\n",
    "a=a.split(0::2)\n",
    "print(a)"
   ]
  },
  {
   "cell_type": "code",
   "execution_count": 647,
   "metadata": {},
   "outputs": [
    {
     "data": {
      "text/plain": [
       "4"
      ]
     },
     "execution_count": 647,
     "metadata": {},
     "output_type": "execute_result"
    }
   ],
   "source": [
    "a='my name is manu manu manu manu'\n",
    "a.count('manu')\n"
   ]
  },
  {
   "cell_type": "code",
   "execution_count": 641,
   "metadata": {},
   "outputs": [
    {
     "ename": "TypeError",
     "evalue": "'int' object is not callable",
     "output_type": "error",
     "traceback": [
      "\u001b[0;31m---------------------------------------------------------------------------\u001b[0m",
      "\u001b[0;31mTypeError\u001b[0m                                 Traceback (most recent call last)",
      "\u001b[0;32m<ipython-input-641-38b6d5341abe>\u001b[0m in \u001b[0;36m<module>\u001b[0;34m\u001b[0m\n\u001b[0;32m----> 1\u001b[0;31m \u001b[0;34m(\u001b[0m\u001b[0ma\u001b[0m\u001b[0;34m+\u001b[0m\u001b[0mb\u001b[0m\u001b[0;34m)\u001b[0m\u001b[0;34m(\u001b[0m\u001b[0ma\u001b[0m\u001b[0;34m+\u001b[0m\u001b[0mb\u001b[0m\u001b[0;34m)\u001b[0m\u001b[0;34m\u001b[0m\u001b[0;34m\u001b[0m\u001b[0m\n\u001b[0m",
      "\u001b[0;31mTypeError\u001b[0m: 'int' object is not callable"
     ]
    }
   ],
   "source": []
  },
  {
   "cell_type": "code",
   "execution_count": 645,
   "metadata": {},
   "outputs": [
    {
     "name": "stdout",
     "output_type": "stream",
     "text": [
      "ayvak\n"
     ]
    }
   ],
   "source": [
    "a='kavya'\n",
    "x=''\n",
    "m=-1\n",
    "for i in a:\n",
    "    x=x+a[m]\n",
    "    m=m-1\n",
    "print(x)    "
   ]
  },
  {
   "cell_type": "code",
   "execution_count": 656,
   "metadata": {},
   "outputs": [
    {
     "name": "stdout",
     "output_type": "stream",
     "text": [
      "9\n",
      "total groups= 7\n",
      "1 = 4\n",
      "2 = 4\n"
     ]
    }
   ],
   "source": [
    "a=[1,2,2,2,3,1,1,1,2,3,5,6,7,9]\n",
    "b=set(a)\n",
    "print(max(b))\n",
    "print(\"total groups=\",len(b))\n",
    "for i in b:\n",
    "    sum=0\n",
    "    for j in a:\n",
    "        if i==j:\n",
    "            sum=sum+1\n",
    "    if sum>=3:        \n",
    "        print(i ,\"=\",sum)        "
   ]
  },
  {
   "cell_type": "code",
   "execution_count": 665,
   "metadata": {},
   "outputs": [
    {
     "name": "stdout",
     "output_type": "stream",
     "text": [
      "total number of students = 56\n",
      "seventy_five= 7\n",
      "seventy_four= 4\n",
      "seventy_to_seventy_five= 21\n",
      "sixty_to_sixty_nine= 11\n",
      "fifty_to_fifty_nine= 6\n",
      "fourty_to_fourty_nine= 5\n",
      "fail= 11\n"
     ]
    }
   ],
   "source": [
    "#class of students\n",
    "marks=[75,75,73,73,74,71,73,75,69,67,65,64,37,38,71,70,28,31,35,61,56,45,72,71,72,75,75,26,55,44,11,9,74,75,75,54,67,68,43,45,46,13,32,31,67,70,60,30,50,55,29,74,74,64,65,51]\n",
    "print(\"total number of students =\",len(marks))\n",
    "seventy_five=0\n",
    "seventy_four=0\n",
    "seventy_to_seventy_five=0\n",
    "sixty_to_sixty_nine=0\n",
    "fifty_to_fifty_nine=0\n",
    "fourty_to_fourty_nine=0\n",
    "fail=0\n",
    "for i in marks:\n",
    "    if i==75:\n",
    "        seventy_five=seventy_five+1\n",
    "        seventy_to_seventy_five=seventy_to_seventy_five+1\n",
    "    elif i==74:\n",
    "        seventy_four=seventy_four+1\n",
    "        seventy_to_seventy_five=seventy_to_seventy_five+1\n",
    "    elif 73>=i>=70:\n",
    "        seventy_to_seventy_five=seventy_to_seventy_five+1\n",
    "    elif 69>=i>=60:\n",
    "        sixty_to_sixty_nine=sixty_to_sixty_nine+1\n",
    "    elif 59>=i>=50:\n",
    "        fifty_to_fifty_nine=fifty_to_fifty_nine+1\n",
    "    elif 49>=i>=40:\n",
    "        fourty_to_fourty_nine=fourty_to_fourty_nine+1\n",
    "    elif i<=35:\n",
    "        fail=fail+1\n",
    "print(\"seventy_five=\",seventy_five)\n",
    "print(\"seventy_four=\",seventy_four)\n",
    "print(\"seventy_to_seventy_five=\",seventy_to_seventy_five)\n",
    "print(\"sixty_to_sixty_nine=\",sixty_to_sixty_nine)\n",
    "print(\"fifty_to_fifty_nine=\",fifty_to_fifty_nine)\n",
    "print(\"fourty_to_fourty_nine=\",fourty_to_fourty_nine)\n",
    "print(\"fail=\",fail)      \n",
    "        \n",
    "      \n",
    "        "
   ]
  },
  {
   "cell_type": "code",
   "execution_count": 666,
   "metadata": {},
   "outputs": [
    {
     "name": "stdout",
     "output_type": "stream",
     "text": [
      "[0, 1, 2, 3, 4, 5, 6, 7, 8, 9]\n"
     ]
    }
   ],
   "source": [
    "m=list(range(10))\n",
    "print(m)"
   ]
  },
  {
   "cell_type": "code",
   "execution_count": 675,
   "metadata": {},
   "outputs": [
    {
     "name": "stdout",
     "output_type": "stream",
     "text": [
      "[0, 1, 2, 3, 4, 5, 6, 7, 8, 9, 10, 11, 12, 13, 14, 15, 16, 17, 18, 19]\n"
     ]
    }
   ],
   "source": [
    "l=list(range(20))\n",
    "print(l)"
   ]
  },
  {
   "cell_type": "code",
   "execution_count": 16,
   "metadata": {},
   "outputs": [
    {
     "name": "stdout",
     "output_type": "stream",
     "text": [
      "['better', 'far', \"have'nt\", 'performed', 'so', 'they']\n"
     ]
    }
   ],
   "source": [
    "a=\"they have'nt performed better so far\"\n",
    "a=a.split()\n",
    "a.sort()\n",
    "print(a)\n"
   ]
  },
  {
   "cell_type": "code",
   "execution_count": 685,
   "metadata": {},
   "outputs": [
    {
     "name": "stdout",
     "output_type": "stream",
     "text": [
      "['1', '2', '3', '4']\n"
     ]
    }
   ],
   "source": [
    "a= [str(c) for c in a]\n",
    "print(a)"
   ]
  },
  {
   "cell_type": "code",
   "execution_count": 694,
   "metadata": {},
   "outputs": [],
   "source": [
    "%matplotlib inline\n",
    "import matplotlib.pyplot as plt\n",
    "plt.style.use('seaborn-whitegrid')\n",
    "import numpy as np"
   ]
  },
  {
   "cell_type": "code",
   "execution_count": 684,
   "metadata": {},
   "outputs": [
    {
     "data": {
      "image/png": "[encoded data removed]",
      "text/plain": [
       "<Figure size 432x288 with 1 Axes>"
      ]
     },
     "metadata": {},
     "output_type": "display_data"
    }
   ],
   "source": [
    "fig = plt.figure()\n",
    "ax = plt.axes()"
   ]
  },
  {
   "cell_type": "code",
   "execution_count": 688,
   "metadata": {},
   "outputs": [
    {
     "data": {
      "image/png": "[encoded data removed]",
      "text/plain": [
       "<Figure size 432x288 with 1 Axes>"
      ]
     },
     "metadata": {},
     "output_type": "display_data"
    }
   ],
   "source": [
    "fig = plt.figure()\n",
    "ax = plt.axes()\n",
    "\n",
    "x = np.linspace(0, 10, 1000)\n",
    "ax.plot(x, np.sin(x));"
   ]
  },
  {
   "cell_type": "code",
   "execution_count": 689,
   "metadata": {},
   "outputs": [
    {
     "data": {
      "image/png": "[encoded data removed]",
      "text/plain": [
       "<Figure size 432x288 with 1 Axes>"
      ]
     },
     "metadata": {},
     "output_type": "display_data"
    }
   ],
   "source": [
    "\n",
    "plt.plot(x, np.sin(x));"
   ]
  },
  {
   "cell_type": "code",
   "execution_count": 690,
   "metadata": {},
   "outputs": [
    {
     "data": {
      "image/png": "[encoded data removed]",
      "text/plain": [
       "<Figure size 432x288 with 1 Axes>"
      ]
     },
     "metadata": {},
     "output_type": "display_data"
    }
   ],
   "source": [
    "plt.plot(x, np.sin(x))\n",
    "plt.plot(x, np.cos(x));"
   ]
  },
  {
   "cell_type": "code",
   "execution_count": 697,
   "metadata": {},
   "outputs": [
    {
     "data": {
      "image/png": "[encoded data removed]",
      "text/plain": [
       "<Figure size 432x288 with 1 Axes>"
      ]
     },
     "metadata": {},
     "output_type": "display_data"
    }
   ],
   "source": [
    "plt.plot(x, np.sin(x - 0), color='blue')        # specify color by name\n",
    "plt.plot(x, np.sin(x - 1), color='g')           # short color code (rgbcmyk)\n",
    "plt.plot(x, np.sin(x - 2), color='0.75')        # Grayscale between 0 and 1\n",
    "plt.plot(x, np.sin(x - 3), color='#FFDD44')     # Hex code (RRGGBB from 00 to FF)\n",
    "plt.plot(x, np.sin(x - 4), color=(1.0,0.2,0.3)) # RGB tuple, values 0 to 1\n",
    "plt.plot(x, np.sin(x - 5), color='chartreuse'); # all HTML color names supported"
   ]
  },
  {
   "cell_type": "code",
   "execution_count": 18,
   "metadata": {},
   "outputs": [
    {
     "ename": "NameError",
     "evalue": "name 'plt' is not defined",
     "output_type": "error",
     "traceback": [
      "\u001b[0;31m---------------------------------------------------------------------------\u001b[0m",
      "\u001b[0;31mNameError\u001b[0m                                 Traceback (most recent call last)",
      "\u001b[0;32m<ipython-input-18-b27824959bb3>\u001b[0m in \u001b[0;36m<module>\u001b[0;34m\u001b[0m\n\u001b[0;32m----> 1\u001b[0;31m \u001b[0mplt\u001b[0m\u001b[0;34m.\u001b[0m\u001b[0mplot\u001b[0m\u001b[0;34m(\u001b[0m\u001b[0mx\u001b[0m\u001b[0;34m,\u001b[0m \u001b[0mx\u001b[0m \u001b[0;34m+\u001b[0m \u001b[0;36m0\u001b[0m\u001b[0;34m,\u001b[0m \u001b[0mlinestyle\u001b[0m\u001b[0;34m=\u001b[0m\u001b[0;34m'solid'\u001b[0m\u001b[0;34m)\u001b[0m\u001b[0;34m\u001b[0m\u001b[0;34m\u001b[0m\u001b[0m\n\u001b[0m\u001b[1;32m      2\u001b[0m \u001b[0mplt\u001b[0m\u001b[0;34m.\u001b[0m\u001b[0mplot\u001b[0m\u001b[0;34m(\u001b[0m\u001b[0mx\u001b[0m\u001b[0;34m,\u001b[0m \u001b[0mx\u001b[0m \u001b[0;34m+\u001b[0m \u001b[0;36m1\u001b[0m\u001b[0;34m,\u001b[0m \u001b[0mlinestyle\u001b[0m\u001b[0;34m=\u001b[0m\u001b[0;34m'dashed'\u001b[0m\u001b[0;34m)\u001b[0m\u001b[0;34m\u001b[0m\u001b[0;34m\u001b[0m\u001b[0m\n\u001b[1;32m      3\u001b[0m \u001b[0mplt\u001b[0m\u001b[0;34m.\u001b[0m\u001b[0mplot\u001b[0m\u001b[0;34m(\u001b[0m\u001b[0mx\u001b[0m\u001b[0;34m,\u001b[0m \u001b[0mx\u001b[0m \u001b[0;34m+\u001b[0m \u001b[0;36m2\u001b[0m\u001b[0;34m,\u001b[0m \u001b[0mlinestyle\u001b[0m\u001b[0;34m=\u001b[0m\u001b[0;34m'dashdot'\u001b[0m\u001b[0;34m)\u001b[0m\u001b[0;34m\u001b[0m\u001b[0;34m\u001b[0m\u001b[0m\n\u001b[1;32m      4\u001b[0m \u001b[0mplt\u001b[0m\u001b[0;34m.\u001b[0m\u001b[0mplot\u001b[0m\u001b[0;34m(\u001b[0m\u001b[0mx\u001b[0m\u001b[0;34m,\u001b[0m \u001b[0mx\u001b[0m \u001b[0;34m+\u001b[0m \u001b[0;36m3\u001b[0m\u001b[0;34m,\u001b[0m \u001b[0mlinestyle\u001b[0m\u001b[0;34m=\u001b[0m\u001b[0;34m'dotted'\u001b[0m\u001b[0;34m)\u001b[0m\u001b[0;34m;\u001b[0m\u001b[0;34m\u001b[0m\u001b[0;34m\u001b[0m\u001b[0m\n\u001b[1;32m      5\u001b[0m \u001b[0;34m\u001b[0m\u001b[0m\n",
      "\u001b[0;31mNameError\u001b[0m: name 'plt' is not defined"
     ]
    }
   ],
   "source": [
    "plt.plot(x, x + 0, linestyle='solid')\n",
    "plt.plot(x, x + 1, linestyle='dashed')\n",
    "plt.plot(x, x + 2, linestyle='dashdot')\n",
    "plt.plot(x, x + 3, linestyle='dotted');\n",
    "\n",
    "# For short, you can use the following codes:\n",
    "plt.plot(x, x + 4, linestyle='-')  # solid\n",
    "plt.plot(x, x + 5, linestyle='--') # dashed\n",
    "plt.plot(x, x + 6, linestyle='-.') # dashdot\n",
    "plt.plot(x, x + 7, linestyle=':');  # dotted"
   ]
  },
  {
   "cell_type": "code",
   "execution_count": 1,
   "metadata": {},
   "outputs": [
    {
     "ename": "ModuleNotFoundError",
     "evalue": "No module named 'geopy'",
     "output_type": "error",
     "traceback": [
      "\u001b[0;31m---------------------------------------------------------------------------\u001b[0m",
      "\u001b[0;31mModuleNotFoundError\u001b[0m                       Traceback (most recent call last)",
      "\u001b[0;32m<ipython-input-1-5b39deb85243>\u001b[0m in \u001b[0;36m<module>\u001b[0;34m\u001b[0m\n\u001b[1;32m      1\u001b[0m \u001b[0;31m# import module\u001b[0m\u001b[0;34m\u001b[0m\u001b[0;34m\u001b[0m\u001b[0;34m\u001b[0m\u001b[0m\n\u001b[0;32m----> 2\u001b[0;31m \u001b[0;32mfrom\u001b[0m \u001b[0mgeopy\u001b[0m\u001b[0;34m.\u001b[0m\u001b[0mgeocoders\u001b[0m \u001b[0;32mimport\u001b[0m \u001b[0mNominatim\u001b[0m\u001b[0;34m\u001b[0m\u001b[0;34m\u001b[0m\u001b[0m\n\u001b[0m\u001b[1;32m      3\u001b[0m \u001b[0;32mfrom\u001b[0m \u001b[0mgeopy\u001b[0m \u001b[0;32mimport\u001b[0m \u001b[0mdistance\u001b[0m\u001b[0;34m\u001b[0m\u001b[0;34m\u001b[0m\u001b[0m\n\u001b[1;32m      4\u001b[0m \u001b[0;34m\u001b[0m\u001b[0m\n\u001b[1;32m      5\u001b[0m \u001b[0;31m# initialize Nominatim API\u001b[0m\u001b[0;34m\u001b[0m\u001b[0;34m\u001b[0m\u001b[0;34m\u001b[0m\u001b[0m\n",
      "\u001b[0;31mModuleNotFoundError\u001b[0m: No module named 'geopy'"
     ]
    }
   ],
   "source": [
    "# import module \n",
    "from geopy.geocoders import Nominatim \n",
    "from geopy import distance \n",
    "  \n",
    "# initialize Nominatim API \n",
    "geolocator = Nominatim(user_agent=\"geoapiExercises\") \n",
    "  \n",
    "# place input \n",
    "Input_place1 = \"delhi\"\n",
    "Input_place2 = \"patna\"\n",
    "  \n",
    "# Get location of the input strings \n",
    "place1 = geolocator.geocode(Input_place1) \n",
    "place2 = geolocator.geocode(Input_place2) \n",
    "  \n",
    "# Get latitude and longitude \n",
    "Loc1_lat, Loc1_lon = (place1.latitude), (place1.longitude) \n",
    "Loc2_lat, Loc2_lon = (place2.latitude), (place2.longitude) \n",
    "  \n",
    "location1 = (Loc1_lat, Loc1_lon) \n",
    "location2 = (Loc2_lat, Loc2_lon) \n",
    "  \n",
    "# display the distance \n",
    "print(distance.distance(location1, location2).km, \" kms\") \n"
   ]
  },
  {
   "cell_type": "code",
   "execution_count": 17,
   "metadata": {},
   "outputs": [],
   "source": [
    "import pandas as pd\n"
   ]
  },
  {
   "cell_type": "code",
   "execution_count": 19,
   "metadata": {},
   "outputs": [],
   "source": [
    "from matplotlib import pyplot as plt"
   ]
  },
  {
   "cell_type": "code",
   "execution_count": 56,
   "metadata": {},
   "outputs": [
    {
     "data": {
      "image/png": "[encoded data removed]",
      "text/plain": [
       "<Figure size 432x288 with 1 Axes>"
      ]
     },
     "metadata": {
      "needs_background": "light"
     },
     "output_type": "display_data"
    }
   ],
   "source": [
    "x =[*range(10)]\n",
    "y =[1,2,3,4,5,4,3,2,1,0]\n",
    "z=[5,4,3,2,1,5,4,3,2,1]\n",
    "plt.plot(x,y)\n",
    "plt.plot(x,z)\n",
    "plt.title(\"population_census\")\n",
    "plt.xlabel(\"year\")\n",
    "plt.ylabel(\"population in crores\")\n",
    "plt.show()"
   ]
  },
  {
   "cell_type": "code",
   "execution_count": 37,
   "metadata": {},
   "outputs": [
    {
     "name": "stdout",
     "output_type": "stream",
     "text": [
      "[0, 2, 4, 6, 8]\n"
     ]
    }
   ],
   "source": [
    "a=[*range(0,10,2)]\n",
    "print(a)"
   ]
  },
  {
   "cell_type": "code",
   "execution_count": null,
   "metadata": {},
   "outputs": [],
   "source": []
  }
 ],
 "metadata": {
  "kernelspec": {
   "display_name": "Python 3",
   "language": "python",
   "name": "python3"
  },
  "language_info": {
   "codemirror_mode": {
    "name": "ipython",
    "version": 3
   },
   "file_extension": ".py",
   "mimetype": "text/x-python",
   "name": "python",
   "nbconvert_exporter": "python",
   "pygments_lexer": "ipython3",
   "version": "3.8.3"
  }
 },
 "nbformat": 4,
 "nbformat_minor": 4
}
