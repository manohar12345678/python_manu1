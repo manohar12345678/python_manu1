{
 "cells": [
  {
   "cell_type": "code",
   "execution_count": 94,
   "metadata": {},
   "outputs": [
    {
     "name": "stdout",
     "output_type": "stream",
     "text": [
      "enter the vehicle number:yjdfhfu324\n",
      "enter vehicle colour:orange\n",
      "enter 2 or 4 or heavy vehicle:2\n",
      "vehicle number does not match\n",
      "0% matched\n"
     ]
    }
   ],
   "source": [
    "b='TS02EV1513'# ktm bike 2 wheeler\n",
    "c='TS02MA0297'# vespa scooty 2 wheeler\n",
    "d='KA10DL2121'# BMW car four wheeler\n",
    "a=str(input(\"enter the vehicle number:\"))\n",
    "e=str(input(\"enter vehicle colour:\"))\n",
    "f=int(input(\"enter 2 or 4 or heavy vehicle:\"))\n",
    "if a==b:\n",
    "    print(\" vehicle\"\" number #matched# \")\n",
    "    print(\"50% matched\")\n",
    "    if e=='orange':\n",
    "        print(\"vehicle colour #matched#\")\n",
    "        print(\"75% matched\")\n",
    "        if f==2:\n",
    "            print(\"type of wheeler #matched#\")\n",
    "            print(\"100% matched\")\n",
    "            print(\"stop the vehicle\")\n",
    "        else:\n",
    "            print(\"type of wheeler not detected\")\n",
    "            print(\"only 50% matched\")\n",
    "    else:\n",
    "        print(\" vehicle colour does not match\")\n",
    "        print(\"only 50% matched\")\n",
    "else:\n",
    "    print(\"vehicle number does not match\")\n",
    "    print(\"0% matched\")"
   ]
  },
  {
   "cell_type": "code",
   "execution_count": null,
   "metadata": {},
   "outputs": [],
   "source": [
    "b=int(input(\"enter a number:\"))\n",
    "c=int(input(\"enter a number:\"))\n",
    "if c>=b:\n",
    "    for i in range(c,(c*b)+1,c):\n",
    "         if i%b==0 and i%c==0:\n",
    "            break\n",
    "    print(i,\"is the least common multiple\")\n",
    "else:\n",
    "    for i in range(b,(c*b)+1,b):\n",
    "          if i%b==0 and i%c==0:\n",
    "            break\n",
    "    print(i,\"is the least common multiple\")\n",
    "        \n",
    "\n",
    "\n",
    "\n"
   ]
  },
  {
   "cell_type": "code",
   "execution_count": null,
   "metadata": {},
   "outputs": [
    {
     "name": "stdout",
     "output_type": "stream",
     "text": [
      "enter the names of the couple\n",
      "enter the name of the male:chinna ramaya\n",
      "enter the name of the female:annapurna\n",
      "Person: CHINNA RAMAYA\n",
      "wife: ANNAPURNA\n",
      "Childern:\n",
      "1.Elder daughter: SARASWATHI\n",
      "2.Second elder son: VENKATESHWARLU\n",
      "3.Younger son: SRINIVASA RAO\n"
     ]
    }
   ],
   "source": [
    "print(\"enter the names of the couple\")\n",
    "a=str(input(\"enter the name of the male:\"))\n",
    "b=str(input(\"enter the name of the female:\"))\n",
    "if a=='narayana' and b=='appamma':\n",
    "    print(\"Surname: MARINENI\\nCouple 'NARAYANA' and 'APPAMMA' has two sons:\\n1.Younger son: 'CHINNA RAMAYA'\\n2.Elder son: 'PEDDA RAMAYA'\")\n",
    "    choose=int(input(\"choose one son:\"))\n",
    "    if choose==1:\n",
    "        print(\"Surname: MARINENI\\nPerson: CHINNA RAMAYA\\nwife: ANNAPURNA\\nChildern:\\n1.Elder daughter: SARASWATHI\\n2.Second elder son: VENKATESHWARLU\\n3.Younger son: SRINIVASA RAO\")\n",
    "        choose=int(input(\"choose one person:\"))\n",
    "        if choose==1:\n",
    "            print(\"Surname: GADUPUDI\\nPerson: SARASWATHI\\nHusband: LAXMAIAH\\nChildern:\\n1.Elder son: MANOJ\\n2.Younger son: MAHESH\")\n",
    "            choose=int(input(\"choose one son:\"))\n",
    "            if choose==1:\n",
    "                print(\"Surname: GADUPUDI\\nPerson: MANOJ\\nWife: MOUNIKA\\nChildern: none\")\n",
    "            elif choose==2:\n",
    "                    print(\"Surname: GADUPUDI\\nPerson: MAHESH(unmarried)\")\n",
    "        elif choose==2:\n",
    "                print(\"Surname: MARINENI\\nPerson: VENKATESHWARLU\\nwife: VIJAYA LAKSHMI\\n1.Elder daughter: KAVYA\\n2.Younger son: MANOHAR\")\n",
    "                choose=int(input(\"choose one person:\"))\n",
    "                if choose==1:\n",
    "                    print(\"Surname: MARINENI\\nPerson: KAVYA(unmarried)\")\n",
    "                    \n",
    "                elif choose==2:\n",
    "                    print(\"Surname: MARINENI\\nPerson: MANOHAR(unmarried)\")\n",
    "        elif choose==3:\n",
    "                print(\"Surname: MARINENI\\nPerson: SRINIVASA RAO\\nWife: LAKSHMI\\nChildern:\\n1.Elder son: PRANAY\\n2.Younger daughter: PRAHARSHITHA\")\n",
    "                choose=int(input(\"choose one person:\"))\n",
    "                if choose==1:\n",
    "                    print(\"Surname: MARINENI\\nPerson: PRANAY(unmarried)\")\n",
    "                elif choose==2:\n",
    "                    print(\"Surname: MARINENI\\nPerson: PRAHARSHITHA(unmarried)\")\n",
    "elif a=='chinna ramaya' and b=='annapurna':\n",
    "        print(\"Surname: MARINENI\\nPerson: CHINNA RAMAYA\\nwife: ANNAPURNA\\nChildern:\\n1.Elder daughter: SARASWATHI\\n2.Second elder son: VENKATESHWARLU\\n3.Younger son: SRINIVASA RAO\")\n",
    "        choose=int(input(\"choose one person:\"))\n",
    "        if choose==1:\n",
    "            print(\"Surname: GADUPUDI\\nPerson: SARASWATHI\\nHusband: LAXMAIAH\\nChildern:\\n1.Elder son: MANOJ\\n2.Younger son: MAHESH\")\n",
    "            choose=int(input(\"choose one son:\"))\n",
    "            if choose==1:\n",
    "                print(\"Surname: GADUPUDI\\nPerson: MANOJ\\nWife: MOUNIKA\\nChildern: none\")\n",
    "            elif choose==2:\n",
    "                    print(\"Surname: GADUPUDI\\nPerson: MAHESH(unmarried)\")\n",
    "        elif choose==2:\n",
    "                print(\"Surname: MARINENI\\nPerson: VENKATESHWARLU\\nwife: VIJAYA LAKSHMI\\n1.Elder daughter: KAVYA\\n2.Younger son: MANOHAR\")\n",
    "                choose=int(input(\"choose one person:\"))\n",
    "                if choose==1:\n",
    "                    print(\"Surname: MARINENI\\nPerson: KAVYA(unmarried)\")\n",
    "                    \n",
    "                elif choose==2:\n",
    "                    print(\"Surname: MARINENI\\nPerson: MANOHAR(unmarried)\")\n",
    "        elif choose==3:\n",
    "                print(\"Surname: MARINENI\\nPerson: SRINIVASA RAO\\nWife: LAKSHMI\\nChildern:\\n1.Elder son: PRANAY\\n2.Younger daughter: PRAHARSHITHA\")\n",
    "                choose=int(input(\"choose one person:\"))\n",
    "                if choose==1:\n",
    "                    print(\"Surname: MARINENI\\nPerson: PRANAY(unmarried)\")\n",
    "                elif choose==2:\n",
    "                    print(\"Surname: MARINENI\\nPerson: PRAHARSHITHA(unmarried)\")\n",
    "                    \n",
    "elif a=='venkateshwarlu' and b=='vijaya lakshmi':\n",
    "                print(\"Surname: MARINENI\\nPerson: VENKATESHWARLU\\nwife: VIJAYA LAKSHMI\\n1.Elder daughter: KAVYA\\n2.Younger son: MANOHAR\")\n",
    "                choose=int(input(\"choose one person:\"))\n",
    "                if choose==1:\n",
    "                    print(\"Surname: MARINENI\\nPerson: KAVYA(unmarried)\")\n",
    "                    \n",
    "                elif choose==2:\n",
    "                    print(\"Surname: MARINENI\\nPerson: MANOHAR(unmarried)\")\n",
    "elif a=='srinivasa rao' and b=='lakshmi':\n",
    "                print(\"Surname: MARINENI\\nPerson: SRINIVASA RAO\\nWife: LAKSHMI\\nChildern:\\n1.Elder son: PRANAY\\n2.Younger daughter: PRAHARSHITHA\")\n",
    "                choose=int(input(\"choose one person:\"))\n",
    "                if choose==1:\n",
    "                    print(\"Surname: MARINENI\\nPerson: PRANAY(unmarried)\")\n",
    "                elif choose==2:\n",
    "                    print(\"Surname: MARINENI\\nPerson: PRAHARSHITHA(unmarried)\")\n",
    "elif a=='laxmaiah' and b=='saraswathi':\n",
    "                print(\"Surname: GADUPUDI\\nPerson: SARASWATHI\\nHusband: LAXMAIAH\\nChildern:\\n1.Elder son: MANOJ\\n2.Younger son: MAHESH\")\n",
    "                choose=int(input(\"choose one son:\"))\n",
    "                if choose==1:\n",
    "                    print(\"Surname: GADUPUDI\\nPerson: MANOJ\\nWife: MOUNIKA\\nChildern: none\")\n",
    "                elif choose==2:\n",
    "                    print(\"Surname: GADUPUDI\\nPerson: MAHESH(unmarried)\")\n",
    "elif a=='manoj' and b=='mounika':\n",
    "                print(\"Surname: GADUPUDI\\nPerson: MANOJ\\nWife: MOUNIKA\\nChildern: none\")\n",
    "        \n"
   ]
  },
  {
   "cell_type": "code",
   "execution_count": null,
   "metadata": {},
   "outputs": [],
   "source": []
  },
  {
   "cell_type": "code",
   "execution_count": null,
   "metadata": {},
   "outputs": [],
   "source": []
  },
  {
   "cell_type": "code",
   "execution_count": null,
   "metadata": {},
   "outputs": [],
   "source": []
  },
  {
   "cell_type": "code",
   "execution_count": null,
   "metadata": {},
   "outputs": [],
   "source": []
  },
  {
   "cell_type": "code",
   "execution_count": null,
   "metadata": {},
   "outputs": [],
   "source": []
  },
  {
   "cell_type": "code",
   "execution_count": null,
   "metadata": {},
   "outputs": [],
   "source": []
  },
  {
   "cell_type": "code",
   "execution_count": null,
   "metadata": {},
   "outputs": [],
   "source": []
  }
 ],
 "metadata": {
  "kernelspec": {
   "display_name": "Python 3",
   "language": "python",
   "name": "python3"
  },
  "language_info": {
   "codemirror_mode": {
    "name": "ipython",
    "version": 3
   },
   "file_extension": ".py",
   "mimetype": "text/x-python",
   "name": "python",
   "nbconvert_exporter": "python",
   "pygments_lexer": "ipython3",
   "version": "3.8.3"
  }
 },
 "nbformat": 4,
 "nbformat_minor": 4
}
